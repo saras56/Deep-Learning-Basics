{
 "cells": [
  {
   "cell_type": "code",
   "execution_count": 1,
   "id": "22fac285-f896-482b-859c-e5b0bf7c7a88",
   "metadata": {},
   "outputs": [],
   "source": [
    "import tensorflow as tf\n",
    "from tensorflow import keras\n",
    "import matplotlib.pyplot as plt\n",
    "%matplotlib inline\n",
    "import numpy as np"
   ]
  },
  {
   "cell_type": "code",
   "execution_count": 3,
   "id": "26646e34-3c81-42fb-928f-0467db19963b",
   "metadata": {},
   "outputs": [
    {
     "data": {
      "text/plain": [
       "[PhysicalDevice(name='/physical_device:CPU:0', device_type='CPU')]"
      ]
     },
     "execution_count": 3,
     "metadata": {},
     "output_type": "execute_result"
    }
   ],
   "source": [
    "tf.config.experimental.list_physical_devices()"
   ]
  },
  {
   "cell_type": "code",
   "execution_count": 4,
   "id": "4f848abb-710f-4cd8-afa8-6e999eb54ebb",
   "metadata": {},
   "outputs": [],
   "source": [
    "(X_train,y_train),(X_test,y_test)= tf.keras.datasets.cifar10.load_data()"
   ]
  },
  {
   "cell_type": "code",
   "execution_count": 5,
   "id": "7a2c97a6-7a6c-4abd-a220-fc2ad388de6c",
   "metadata": {},
   "outputs": [
    {
     "data": {
      "text/plain": [
       "(50000, 32, 32, 3)"
      ]
     },
     "execution_count": 5,
     "metadata": {},
     "output_type": "execute_result"
    }
   ],
   "source": [
    "X_train.shape"
   ]
  },
  {
   "cell_type": "code",
   "execution_count": 10,
   "id": "02688694-985b-415f-94b8-dfde9cae7b66",
   "metadata": {},
   "outputs": [
    {
     "data": {
      "text/plain": [
       "array([[[154, 177, 187],\n",
       "        [126, 137, 136],\n",
       "        [105, 104,  95],\n",
       "        ...,\n",
       "        [ 91,  95,  71],\n",
       "        [ 87,  90,  71],\n",
       "        [ 79,  81,  70]],\n",
       "\n",
       "       [[140, 160, 169],\n",
       "        [145, 153, 154],\n",
       "        [125, 125, 118],\n",
       "        ...,\n",
       "        [ 96,  99,  78],\n",
       "        [ 77,  80,  62],\n",
       "        [ 71,  73,  61]],\n",
       "\n",
       "       [[140, 155, 164],\n",
       "        [139, 146, 149],\n",
       "        [115, 115, 112],\n",
       "        ...,\n",
       "        [ 79,  82,  64],\n",
       "        [ 68,  70,  55],\n",
       "        [ 67,  69,  55]],\n",
       "\n",
       "       ...,\n",
       "\n",
       "       [[175, 167, 166],\n",
       "        [156, 154, 160],\n",
       "        [154, 160, 170],\n",
       "        ...,\n",
       "        [ 42,  34,  36],\n",
       "        [ 61,  53,  57],\n",
       "        [ 93,  83,  91]],\n",
       "\n",
       "       [[165, 154, 128],\n",
       "        [156, 152, 130],\n",
       "        [159, 161, 142],\n",
       "        ...,\n",
       "        [103,  93,  96],\n",
       "        [123, 114, 120],\n",
       "        [131, 121, 131]],\n",
       "\n",
       "       [[163, 148, 120],\n",
       "        [158, 148, 122],\n",
       "        [163, 156, 133],\n",
       "        ...,\n",
       "        [143, 133, 139],\n",
       "        [143, 134, 142],\n",
       "        [143, 133, 144]]], dtype=uint8)"
      ]
     },
     "execution_count": 10,
     "metadata": {},
     "output_type": "execute_result"
    }
   ],
   "source": [
    "X_train[1]"
   ]
  },
  {
   "cell_type": "code",
   "execution_count": 13,
   "id": "b9245537-3cef-4401-8073-7c3fb1872370",
   "metadata": {},
   "outputs": [
    {
     "data": {
      "text/plain": [
       "9"
      ]
     },
     "execution_count": 13,
     "metadata": {},
     "output_type": "execute_result"
    }
   ],
   "source": [
    "y_train[1][0]"
   ]
  },
  {
   "cell_type": "code",
   "execution_count": 14,
   "id": "a5b6c1a8-af6e-4c22-80fd-475d947e1337",
   "metadata": {},
   "outputs": [],
   "source": [
    "classes=[\"airplane\",\"automobile\",\"bird\",\"cat\",\"deer\",\"dog\"]"
   ]
  },
  {
   "cell_type": "code",
   "execution_count": 16,
   "id": "ccf6bf96-39be-4e13-9bf2-68c8e4c56b88",
   "metadata": {},
   "outputs": [
    {
     "data": {
      "text/plain": [
       "'deer'"
      ]
     },
     "execution_count": 16,
     "metadata": {},
     "output_type": "execute_result"
    }
   ],
   "source": [
    "classes[y_train[3][0]]"
   ]
  },
  {
   "cell_type": "code",
   "execution_count": 18,
   "id": "6c5d2948-2e03-4faa-b7f6-b1faee28e925",
   "metadata": {},
   "outputs": [
    {
     "data": {
      "text/plain": [
       "<matplotlib.image.AxesImage at 0x1ba6df4aa60>"
      ]
     },
     "execution_count": 18,
     "metadata": {},
     "output_type": "execute_result"
    },
    {
     "data": {
      "image/png": "[encoded data removed]",
      "text/plain": [
       "<Figure size 1000x100 with 1 Axes>"
      ]
     },
     "metadata": {},
     "output_type": "display_data"
    }
   ],
   "source": [
    "plt.figure(figsize=(10,1))\n",
    "plt.imshow(X_train[3])"
   ]
  },
  {
   "cell_type": "code",
   "execution_count": 19,
   "id": "ecf54016-f1e5-48ac-8b4a-38ea87a01dc9",
   "metadata": {},
   "outputs": [],
   "source": [
    "X_train_scaled = X_train/255\n",
    "X_test_scaled = X_test/255"
   ]
  },
  {
   "cell_type": "code",
   "execution_count": 21,
   "id": "38cc4792-581c-4bcc-9798-9227b7d33d82",
   "metadata": {},
   "outputs": [
    {
     "data": {
      "text/plain": [
       "array([[0., 0., 0., 0., 0., 0., 1., 0., 0., 0.],\n",
       "       [0., 0., 0., 0., 0., 0., 0., 0., 0., 1.],\n",
       "       [0., 0., 0., 0., 0., 0., 0., 0., 0., 1.],\n",
       "       [0., 0., 0., 0., 1., 0., 0., 0., 0., 0.],\n",
       "       [0., 1., 0., 0., 0., 0., 0., 0., 0., 0.]], dtype=float32)"
      ]
     },
     "execution_count": 21,
     "metadata": {},
     "output_type": "execute_result"
    }
   ],
   "source": [
    "y_train_categorical = keras.utils.to_categorical(y_train,num_classes=10,dtype='float32')\n",
    "y_train_categorical[:5]"
   ]
  },
  {
   "cell_type": "code",
   "execution_count": 22,
   "id": "79e7d0a4-3d08-4a72-b630-1c6715359e90",
   "metadata": {},
   "outputs": [],
   "source": [
    " y_test_categorical = keras.utils.to_categorical(y_test,num_classes=10,dtype='float32')"
   ]
  },
  {
   "cell_type": "code",
   "execution_count": 26,
   "id": "314884b9-9867-47a5-8605-684a628d3f47",
   "metadata": {},
   "outputs": [
    {
     "name": "stdout",
     "output_type": "stream",
     "text": [
      "Epoch 1/50\n",
      "1563/1563 [==============================] - 116s 74ms/step - loss: 1.8078 - accuracy: 0.3547\n",
      "Epoch 2/50\n",
      "1563/1563 [==============================] - 107s 69ms/step - loss: 1.6212 - accuracy: 0.4306\n",
      "Epoch 3/50\n",
      "1563/1563 [==============================] - 103s 66ms/step - loss: 1.5393 - accuracy: 0.4582\n",
      "Epoch 4/50\n",
      "1563/1563 [==============================] - 106s 68ms/step - loss: 1.4814 - accuracy: 0.4789\n",
      "Epoch 5/50\n",
      "1563/1563 [==============================] - 104s 66ms/step - loss: 1.4334 - accuracy: 0.4957\n",
      "Epoch 6/50\n",
      "1563/1563 [==============================] - 93s 60ms/step - loss: 1.3887 - accuracy: 0.5118\n",
      "Epoch 7/50\n",
      "1563/1563 [==============================] - 93s 60ms/step - loss: 1.3518 - accuracy: 0.5247\n",
      "Epoch 8/50\n",
      "1563/1563 [==============================] - 96s 61ms/step - loss: 1.3188 - accuracy: 0.5343\n",
      "Epoch 9/50\n",
      "1563/1563 [==============================] - 90s 58ms/step - loss: 1.2852 - accuracy: 0.5499\n",
      "Epoch 10/50\n",
      "1563/1563 [==============================] - 91s 58ms/step - loss: 1.2513 - accuracy: 0.5610\n",
      "Epoch 11/50\n",
      "1563/1563 [==============================] - 91s 58ms/step - loss: 1.2236 - accuracy: 0.5717\n",
      "Epoch 12/50\n",
      "1563/1563 [==============================] - 90s 57ms/step - loss: 1.1966 - accuracy: 0.5824\n",
      "Epoch 13/50\n",
      "1563/1563 [==============================] - 107s 68ms/step - loss: 1.1665 - accuracy: 0.5921\n",
      "Epoch 14/50\n",
      "1563/1563 [==============================] - 107s 68ms/step - loss: 1.1394 - accuracy: 0.6021\n",
      "Epoch 15/50\n",
      "1563/1563 [==============================] - 96s 62ms/step - loss: 1.1132 - accuracy: 0.6109\n",
      "Epoch 16/50\n",
      "1563/1563 [==============================] - 94s 60ms/step - loss: 1.0864 - accuracy: 0.6220\n",
      "Epoch 17/50\n",
      "1563/1563 [==============================] - 103s 66ms/step - loss: 1.0608 - accuracy: 0.6313\n",
      "Epoch 18/50\n",
      "1563/1563 [==============================] - 107s 68ms/step - loss: 1.0336 - accuracy: 0.6407\n",
      "Epoch 19/50\n",
      "1563/1563 [==============================] - 107s 69ms/step - loss: 1.0058 - accuracy: 0.6504\n",
      "Epoch 20/50\n",
      "1563/1563 [==============================] - 105s 67ms/step - loss: 0.9837 - accuracy: 0.6585\n",
      "Epoch 21/50\n",
      "1563/1563 [==============================] - 101s 65ms/step - loss: 0.9582 - accuracy: 0.6680\n",
      "Epoch 22/50\n",
      "1563/1563 [==============================] - 92s 59ms/step - loss: 0.9314 - accuracy: 0.6760\n",
      "Epoch 23/50\n",
      "1563/1563 [==============================] - 93s 59ms/step - loss: 0.9034 - accuracy: 0.6886\n",
      "Epoch 24/50\n",
      "1563/1563 [==============================] - 93s 60ms/step - loss: 0.8815 - accuracy: 0.6936\n",
      "Epoch 25/50\n",
      "1563/1563 [==============================] - 91s 58ms/step - loss: 0.8554 - accuracy: 0.7045\n",
      "Epoch 26/50\n",
      "1563/1563 [==============================] - 91s 58ms/step - loss: 0.8322 - accuracy: 0.7157\n",
      "Epoch 27/50\n",
      "1563/1563 [==============================] - 91s 58ms/step - loss: 0.8022 - accuracy: 0.7250\n",
      "Epoch 28/50\n",
      "1563/1563 [==============================] - 91s 58ms/step - loss: 0.7785 - accuracy: 0.7320\n",
      "Epoch 29/50\n",
      "1563/1563 [==============================] - 92s 59ms/step - loss: 0.7551 - accuracy: 0.7431\n",
      "Epoch 30/50\n",
      "1563/1563 [==============================] - 91s 58ms/step - loss: 0.7316 - accuracy: 0.7510\n",
      "Epoch 31/50\n",
      "1563/1563 [==============================] - 196s 125ms/step - loss: 0.7046 - accuracy: 0.7611\n",
      "Epoch 32/50\n",
      "1563/1563 [==============================] - 108s 69ms/step - loss: 0.6812 - accuracy: 0.7687\n",
      "Epoch 33/50\n",
      "1563/1563 [==============================] - 107s 68ms/step - loss: 0.6589 - accuracy: 0.7782\n",
      "Epoch 34/50\n",
      "1563/1563 [==============================] - 107s 68ms/step - loss: 0.6307 - accuracy: 0.7881\n",
      "Epoch 35/50\n",
      "1563/1563 [==============================] - 300s 192ms/step - loss: 0.6072 - accuracy: 0.7953\n",
      "Epoch 36/50\n",
      "1563/1563 [==============================] - 93s 59ms/step - loss: 0.5843 - accuracy: 0.8050\n",
      "Epoch 37/50\n",
      "1563/1563 [==============================] - 91s 58ms/step - loss: 0.5633 - accuracy: 0.8102\n",
      "Epoch 38/50\n",
      "1563/1563 [==============================] - 91s 58ms/step - loss: 0.5385 - accuracy: 0.8213\n",
      "Epoch 39/50\n",
      "1563/1563 [==============================] - 94s 60ms/step - loss: 0.5116 - accuracy: 0.8334\n",
      "Epoch 40/50\n",
      "1563/1563 [==============================] - 92s 59ms/step - loss: 0.4918 - accuracy: 0.8383\n",
      "Epoch 41/50\n",
      "1563/1563 [==============================] - 92s 59ms/step - loss: 0.4715 - accuracy: 0.8455\n",
      "Epoch 42/50\n",
      "1563/1563 [==============================] - 93s 60ms/step - loss: 0.4467 - accuracy: 0.8552\n",
      "Epoch 43/50\n",
      "1563/1563 [==============================] - 93s 60ms/step - loss: 0.4274 - accuracy: 0.8625\n",
      "Epoch 44/50\n",
      "1563/1563 [==============================] - 95s 61ms/step - loss: 0.4048 - accuracy: 0.8698\n",
      "Epoch 45/50\n",
      "1563/1563 [==============================] - 102s 65ms/step - loss: 0.3892 - accuracy: 0.8755\n",
      "Epoch 46/50\n",
      "1563/1563 [==============================] - 95s 61ms/step - loss: 0.3682 - accuracy: 0.8835\n",
      "Epoch 47/50\n",
      "1563/1563 [==============================] - 106s 68ms/step - loss: 0.3493 - accuracy: 0.8913\n",
      "Epoch 48/50\n",
      "1563/1563 [==============================] - 105s 67ms/step - loss: 0.3298 - accuracy: 0.8990\n",
      "Epoch 49/50\n",
      "1563/1563 [==============================] - 103s 66ms/step - loss: 0.3133 - accuracy: 0.9053\n",
      "Epoch 50/50\n",
      "1563/1563 [==============================] - 100s 64ms/step - loss: 0.2966 - accuracy: 0.9111\n"
     ]
    },
    {
     "data": {
      "text/plain": [
       "<keras.callbacks.History at 0x1bad4f858b0>"
      ]
     },
     "execution_count": 26,
     "metadata": {},
     "output_type": "execute_result"
    }
   ],
   "source": [
    "model = keras.Sequential([\n",
    "    keras.layers.Flatten(input_shape=(32,32,3)),\n",
    "    keras.layers.Dense(3000,activation='relu'),\n",
    "    keras.layers.Dense(1000,activation='relu'),\n",
    "    keras.layers.Dense(10,activation='sigmoid')\n",
    "])\n",
    "\n",
    "model.compile(optimizer='SGD',\n",
    "               loss='categorical_crossentropy', # as we are using one hot encoded y train (not discrete y train values in which case we use sparse_cat_cr_en)                                                                                                                                            ` \n",
    "            metrics= ['accuracy'])\n",
    "model.fit(X_train_scaled,y_train_categorical,epochs=50)"
   ]
  },
  {
   "cell_type": "code",
   "execution_count": 32,
   "id": "adc03f1a-c4e6-4eec-90ee-645778007049",
   "metadata": {},
   "outputs": [
    {
     "data": {
      "text/plain": [
       "'automobile'"
      ]
     },
     "execution_count": 32,
     "metadata": {},
     "output_type": "execute_result"
    }
   ],
   "source": [
    "classes[np.argmax(model.predict(X_test_scaled)[6])]"
   ]
  },
  {
   "cell_type": "code",
   "execution_count": 33,
   "id": "0a29b319-2727-4211-ae17-9123bcd6e9cd",
   "metadata": {},
   "outputs": [
    {
     "data": {
      "text/plain": [
       "'automobile'"
      ]
     },
     "execution_count": 33,
     "metadata": {},
     "output_type": "execute_result"
    }
   ],
   "source": [
    "classes[y_test[6][0]]"
   ]
  },
  {
   "cell_type": "code",
   "execution_count": 34,
   "id": "c57e920f-8f99-4738-9211-37d230ef3d36",
   "metadata": {},
   "outputs": [
    {
     "name": "stdout",
     "output_type": "stream",
     "text": [
      "313/313 [==============================] - 7s 23ms/step - loss: 1.5850 - accuracy: 0.5598\n"
     ]
    },
    {
     "data": {
      "text/plain": [
       "[1.584969162940979, 0.5598000288009644]"
      ]
     },
     "execution_count": 34,
     "metadata": {},
     "output_type": "execute_result"
    }
   ],
   "source": [
    "model.evaluate(X_test_scaled,y_test_categorical)"
   ]
  },
  {
   "cell_type": "code",
   "execution_count": null,
   "id": "a61e0fbf-b7bf-4731-a7ad-635eef9ca1e2",
   "metadata": {},
   "outputs": [],
   "source": []
  }
 ],
 "metadata": {
  "kernelspec": {
   "display_name": "Python 3 (ipykernel)",
   "language": "python",
   "name": "python3"
  },
  "language_info": {
   "codemirror_mode": {
    "name": "ipython",
    "version": 3
   },
   "file_extension": ".py",
   "mimetype": "text/x-python",
   "name": "python",
   "nbconvert_exporter": "python",
   "pygments_lexer": "ipython3",
   "version": "3.8.18"
  }
 },
 "nbformat": 4,
 "nbformat_minor": 5
}
