{
 "cells": [
  {
   "cell_type": "code",
   "execution_count": 104,
   "id": "4cf0b5f9-52ba-42cf-ac5c-493a86d2eaf1",
   "metadata": {},
   "outputs": [],
   "source": [
    "import tensorflow as tf\n",
    "from tensorflow import keras\n",
    "import matplotlib.pyplot as plt\n",
    "%matplotlib inline\n",
    "import numpy as np\n",
    "import pandas as pd"
   ]
  },
  {
   "cell_type": "code",
   "execution_count": 177,
   "id": "999e994f-bf24-42bd-a4d6-5ac510123a54",
   "metadata": {},
   "outputs": [
    {
     "data": {
      "text/html": [
       "<div>\n",
       "<style scoped>\n",
       "    .dataframe tbody tr th:only-of-type {\n",
       "        vertical-align: middle;\n",
       "    }\n",
       "\n",
       "    .dataframe tbody tr th {\n",
       "        vertical-align: top;\n",
       "    }\n",
       "\n",
       "    .dataframe thead th {\n",
       "        text-align: right;\n",
       "    }\n",
       "</style>\n",
       "<table border=\"1\" class=\"dataframe\">\n",
       "  <thead>\n",
       "    <tr style=\"text-align: right;\">\n",
       "      <th></th>\n",
       "      <th>customerID</th>\n",
       "      <th>gender</th>\n",
       "      <th>SeniorCitizen</th>\n",
       "      <th>Partner</th>\n",
       "      <th>Dependents</th>\n",
       "      <th>tenure</th>\n",
       "      <th>PhoneService</th>\n",
       "      <th>MultipleLines</th>\n",
       "      <th>InternetService</th>\n",
       "      <th>OnlineSecurity</th>\n",
       "      <th>...</th>\n",
       "      <th>DeviceProtection</th>\n",
       "      <th>TechSupport</th>\n",
       "      <th>StreamingTV</th>\n",
       "      <th>StreamingMovies</th>\n",
       "      <th>Contract</th>\n",
       "      <th>PaperlessBilling</th>\n",
       "      <th>PaymentMethod</th>\n",
       "      <th>MonthlyCharges</th>\n",
       "      <th>TotalCharges</th>\n",
       "      <th>Churn</th>\n",
       "    </tr>\n",
       "  </thead>\n",
       "  <tbody>\n",
       "    <tr>\n",
       "      <th>0</th>\n",
       "      <td>7590-VHVEG</td>\n",
       "      <td>Female</td>\n",
       "      <td>0</td>\n",
       "      <td>Yes</td>\n",
       "      <td>No</td>\n",
       "      <td>1</td>\n",
       "      <td>No</td>\n",
       "      <td>No phone service</td>\n",
       "      <td>DSL</td>\n",
       "      <td>No</td>\n",
       "      <td>...</td>\n",
       "      <td>No</td>\n",
       "      <td>No</td>\n",
       "      <td>No</td>\n",
       "      <td>No</td>\n",
       "      <td>Month-to-month</td>\n",
       "      <td>Yes</td>\n",
       "      <td>Electronic check</td>\n",
       "      <td>29.85</td>\n",
       "      <td>29.85</td>\n",
       "      <td>No</td>\n",
       "    </tr>\n",
       "    <tr>\n",
       "      <th>1</th>\n",
       "      <td>5575-GNVDE</td>\n",
       "      <td>Male</td>\n",
       "      <td>0</td>\n",
       "      <td>No</td>\n",
       "      <td>No</td>\n",
       "      <td>34</td>\n",
       "      <td>Yes</td>\n",
       "      <td>No</td>\n",
       "      <td>DSL</td>\n",
       "      <td>Yes</td>\n",
       "      <td>...</td>\n",
       "      <td>Yes</td>\n",
       "      <td>No</td>\n",
       "      <td>No</td>\n",
       "      <td>No</td>\n",
       "      <td>One year</td>\n",
       "      <td>No</td>\n",
       "      <td>Mailed check</td>\n",
       "      <td>56.95</td>\n",
       "      <td>1889.5</td>\n",
       "      <td>No</td>\n",
       "    </tr>\n",
       "    <tr>\n",
       "      <th>2</th>\n",
       "      <td>3668-QPYBK</td>\n",
       "      <td>Male</td>\n",
       "      <td>0</td>\n",
       "      <td>No</td>\n",
       "      <td>No</td>\n",
       "      <td>2</td>\n",
       "      <td>Yes</td>\n",
       "      <td>No</td>\n",
       "      <td>DSL</td>\n",
       "      <td>Yes</td>\n",
       "      <td>...</td>\n",
       "      <td>No</td>\n",
       "      <td>No</td>\n",
       "      <td>No</td>\n",
       "      <td>No</td>\n",
       "      <td>Month-to-month</td>\n",
       "      <td>Yes</td>\n",
       "      <td>Mailed check</td>\n",
       "      <td>53.85</td>\n",
       "      <td>108.15</td>\n",
       "      <td>Yes</td>\n",
       "    </tr>\n",
       "  </tbody>\n",
       "</table>\n",
       "<p>3 rows × 21 columns</p>\n",
       "</div>"
      ],
      "text/plain": [
       "   customerID  gender  SeniorCitizen Partner Dependents  tenure PhoneService  \\\n",
       "0  7590-VHVEG  Female              0     Yes         No       1           No   \n",
       "1  5575-GNVDE    Male              0      No         No      34          Yes   \n",
       "2  3668-QPYBK    Male              0      No         No       2          Yes   \n",
       "\n",
       "      MultipleLines InternetService OnlineSecurity  ... DeviceProtection  \\\n",
       "0  No phone service             DSL             No  ...               No   \n",
       "1                No             DSL            Yes  ...              Yes   \n",
       "2                No             DSL            Yes  ...               No   \n",
       "\n",
       "  TechSupport StreamingTV StreamingMovies        Contract PaperlessBilling  \\\n",
       "0          No          No              No  Month-to-month              Yes   \n",
       "1          No          No              No        One year               No   \n",
       "2          No          No              No  Month-to-month              Yes   \n",
       "\n",
       "      PaymentMethod MonthlyCharges  TotalCharges Churn  \n",
       "0  Electronic check          29.85         29.85    No  \n",
       "1      Mailed check          56.95        1889.5    No  \n",
       "2      Mailed check          53.85        108.15   Yes  \n",
       "\n",
       "[3 rows x 21 columns]"
      ]
     },
     "execution_count": 177,
     "metadata": {},
     "output_type": "execute_result"
    }
   ],
   "source": [
    "df=pd.read_csv(\"customer_churn.csv\")\n",
    "df.head(3)"
   ]
  },
  {
   "cell_type": "code",
   "execution_count": 106,
   "id": "52f40ba8-2af3-460d-a78b-65451845ac3c",
   "metadata": {},
   "outputs": [
    {
     "data": {
      "text/plain": [
       "Index(['customerID', 'gender', 'SeniorCitizen', 'Partner', 'Dependents',\n",
       "       'tenure', 'PhoneService', 'MultipleLines', 'InternetService',\n",
       "       'OnlineSecurity', 'OnlineBackup', 'DeviceProtection', 'TechSupport',\n",
       "       'StreamingTV', 'StreamingMovies', 'Contract', 'PaperlessBilling',\n",
       "       'PaymentMethod', 'MonthlyCharges', 'TotalCharges', 'Churn'],\n",
       "      dtype='object')"
      ]
     },
     "execution_count": 106,
     "metadata": {},
     "output_type": "execute_result"
    }
   ],
   "source": [
    "df.columns"
   ]
  },
  {
   "cell_type": "code",
   "execution_count": 107,
   "id": "efc3af66-429b-46b9-912e-982fc8bf0421",
   "metadata": {},
   "outputs": [],
   "source": [
    "df.drop('customerID',axis=1,inplace=True)"
   ]
  },
  {
   "cell_type": "code",
   "execution_count": 108,
   "id": "72e4d6ce-ef80-40a3-83ce-3713625f058b",
   "metadata": {},
   "outputs": [
    {
     "name": "stdout",
     "output_type": "stream",
     "text": [
      "<class 'pandas.core.frame.DataFrame'>\n",
      "RangeIndex: 7043 entries, 0 to 7042\n",
      "Data columns (total 20 columns):\n",
      " #   Column            Non-Null Count  Dtype  \n",
      "---  ------            --------------  -----  \n",
      " 0   gender            7043 non-null   object \n",
      " 1   SeniorCitizen     7043 non-null   int64  \n",
      " 2   Partner           7043 non-null   object \n",
      " 3   Dependents        7043 non-null   object \n",
      " 4   tenure            7043 non-null   int64  \n",
      " 5   PhoneService      7043 non-null   object \n",
      " 6   MultipleLines     7043 non-null   object \n",
      " 7   InternetService   7043 non-null   object \n",
      " 8   OnlineSecurity    7043 non-null   object \n",
      " 9   OnlineBackup      7043 non-null   object \n",
      " 10  DeviceProtection  7043 non-null   object \n",
      " 11  TechSupport       7043 non-null   object \n",
      " 12  StreamingTV       7043 non-null   object \n",
      " 13  StreamingMovies   7043 non-null   object \n",
      " 14  Contract          7043 non-null   object \n",
      " 15  PaperlessBilling  7043 non-null   object \n",
      " 16  PaymentMethod     7043 non-null   object \n",
      " 17  MonthlyCharges    7043 non-null   float64\n",
      " 18  TotalCharges      7043 non-null   object \n",
      " 19  Churn             7043 non-null   object \n",
      "dtypes: float64(1), int64(2), object(17)\n",
      "memory usage: 1.1+ MB\n"
     ]
    }
   ],
   "source": [
    "df.info()"
   ]
  },
  {
   "cell_type": "markdown",
   "id": "84393186-d21f-44dd-ae97-d388c46f1ed4",
   "metadata": {},
   "source": [
    "#### Datatype conversion"
   ]
  },
  {
   "cell_type": "code",
   "execution_count": 109,
   "id": "756e64f7-3fef-4f79-8bb6-05673a005bb3",
   "metadata": {},
   "outputs": [
    {
     "data": {
      "text/plain": [
       "array(['29.85', '1889.5', '108.15', ..., '346.45', '306.6', '6844.5'],\n",
       "      dtype=object)"
      ]
     },
     "execution_count": 109,
     "metadata": {},
     "output_type": "execute_result"
    }
   ],
   "source": [
    "df.TotalCharges.values"
   ]
  },
  {
   "cell_type": "code",
   "execution_count": 110,
   "id": "014faf99-1626-4e39-867d-7a5a24feefd9",
   "metadata": {},
   "outputs": [
    {
     "data": {
      "text/plain": [
       "0         29.85\n",
       "1       1889.50\n",
       "2        108.15\n",
       "3       1840.75\n",
       "4        151.65\n",
       "         ...   \n",
       "7038    1990.50\n",
       "7039    7362.90\n",
       "7040     346.45\n",
       "7041     306.60\n",
       "7042    6844.50\n",
       "Name: TotalCharges, Length: 7043, dtype: float64"
      ]
     },
     "execution_count": 110,
     "metadata": {},
     "output_type": "execute_result"
    }
   ],
   "source": [
    "pd.to_numeric(df.TotalCharges,errors='coerce')"
   ]
  },
  {
   "cell_type": "code",
   "execution_count": 111,
   "id": "89674fb5-9f8c-4beb-84c0-9fce30a09946",
   "metadata": {},
   "outputs": [
    {
     "data": {
      "text/plain": [
       "(7043, 20)"
      ]
     },
     "execution_count": 111,
     "metadata": {},
     "output_type": "execute_result"
    }
   ],
   "source": [
    "df.shape"
   ]
  },
  {
   "cell_type": "code",
   "execution_count": 121,
   "id": "f926ce5d-a738-40ab-b90b-340f0541dd0a",
   "metadata": {},
   "outputs": [],
   "source": [
    "df1 = df[df.TotalCharges !=' ']"
   ]
  },
  {
   "cell_type": "code",
   "execution_count": 122,
   "id": "afd14e03-3bb2-4f54-b9ed-df645cfa9f86",
   "metadata": {},
   "outputs": [
    {
     "data": {
      "text/plain": [
       "(7032, 20)"
      ]
     },
     "execution_count": 122,
     "metadata": {},
     "output_type": "execute_result"
    }
   ],
   "source": [
    "df1.shape"
   ]
  },
  {
   "cell_type": "code",
   "execution_count": 123,
   "id": "3ddf61c0-6b0b-4461-90ff-105e7daebf70",
   "metadata": {},
   "outputs": [
    {
     "data": {
      "text/plain": [
       "dtype('O')"
      ]
     },
     "execution_count": 123,
     "metadata": {},
     "output_type": "execute_result"
    }
   ],
   "source": [
    "df1.TotalCharges.dtypes"
   ]
  },
  {
   "cell_type": "code",
   "execution_count": 125,
   "id": "e1afb435-e564-4ea4-9707-e7c86db3b70a",
   "metadata": {},
   "outputs": [
    {
     "name": "stderr",
     "output_type": "stream",
     "text": [
      "C:\\Users\\saras\\AppData\\Local\\Temp\\ipykernel_8500\\2039512902.py:1: SettingWithCopyWarning: \n",
      "A value is trying to be set on a copy of a slice from a DataFrame.\n",
      "Try using .loc[row_indexer,col_indexer] = value instead\n",
      "\n",
      "See the caveats in the documentation: https://pandas.pydata.org/pandas-docs/stable/user_guide/indexing.html#returning-a-view-versus-a-copy\n",
      "  df1['TotalCharges'] = pd.to_numeric(df1.TotalCharges)\n"
     ]
    }
   ],
   "source": [
    "df1['TotalCharges'] = pd.to_numeric(df1.TotalCharges)"
   ]
  },
  {
   "cell_type": "code",
   "execution_count": 126,
   "id": "7c84d535-78af-4146-874a-1ab7b6d9a8f6",
   "metadata": {},
   "outputs": [
    {
     "data": {
      "text/plain": [
       "dtype('float64')"
      ]
     },
     "execution_count": 126,
     "metadata": {},
     "output_type": "execute_result"
    }
   ],
   "source": [
    "df1.TotalCharges.dtypes"
   ]
  },
  {
   "cell_type": "markdown",
   "id": "a3b86ce3-5355-4f17-bc1d-dbb75f6e4175",
   "metadata": {},
   "source": [
    "#### EDA"
   ]
  },
  {
   "cell_type": "code",
   "execution_count": 136,
   "id": "772d8e04-80cd-4090-a708-8201a9ae7219",
   "metadata": {},
   "outputs": [
    {
     "data": {
      "text/plain": [
       "<matplotlib.legend.Legend at 0x248487b8c10>"
      ]
     },
     "execution_count": 136,
     "metadata": {},
     "output_type": "execute_result"
    },
    {
     "data": {
      "image/png": "[encoded data removed]",
      "text/plain": [
       "<Figure size 640x480 with 1 Axes>"
      ]
     },
     "metadata": {},
     "output_type": "display_data"
    }
   ],
   "source": [
    "tenure_churn_No = df1[df1.Churn=='No'].tenure\n",
    "tenure_churn_Yes = df1[df1.Churn=='Yes'].tenure\n",
    "plt.xlabel('Tenure(months)')\n",
    "plt.ylabel('No of customers')\n",
    "plt.title('Customer Churn Prediction Visualization')\n",
    "plt.hist([tenure_churn_No,tenure_churn_Yes],label=['Churn=No','Churn=Yes'])\n",
    "plt.legend()"
   ]
  },
  {
   "cell_type": "code",
   "execution_count": 137,
   "id": "8f65593b-4bf7-482b-87ac-2200dcc82240",
   "metadata": {},
   "outputs": [
    {
     "data": {
      "text/plain": [
       "<matplotlib.legend.Legend at 0x2484995b790>"
      ]
     },
     "execution_count": 137,
     "metadata": {},
     "output_type": "execute_result"
    },
    {
     "data": {
      "image/png": "[encoded data removed]",
      "text/plain": [
       "<Figure size 640x480 with 1 Axes>"
      ]
     },
     "metadata": {},
     "output_type": "display_data"
    }
   ],
   "source": [
    "monthlycharges_churn_No = df1[df1.Churn=='No'].MonthlyCharges\n",
    "monthlycharges_churn_Yes = df1[df1.Churn=='Yes'].MonthlyCharges\n",
    "plt.xlabel('MonthlyCharges')\n",
    "plt.ylabel('No of customers')\n",
    "plt.title('Customer Churn Prediction Visualization')\n",
    "plt.hist([monthlycharges_churn_No,monthlycharges_churn_Yes],label=['Churn=No','Churn=Yes'])\n",
    "plt.legend()"
   ]
  },
  {
   "cell_type": "code",
   "execution_count": 138,
   "id": "0d96fda0-10b9-4af0-bf81-c60152239ec8",
   "metadata": {},
   "outputs": [
    {
     "data": {
      "text/plain": [
       "<matplotlib.legend.Legend at 0x24849871370>"
      ]
     },
     "execution_count": 138,
     "metadata": {},
     "output_type": "execute_result"
    },
    {
     "data": {
      "image/png": "[encoded data removed]",
      "text/plain": [
       "<Figure size 640x480 with 1 Axes>"
      ]
     },
     "metadata": {},
     "output_type": "display_data"
    }
   ],
   "source": [
    "Totalcharges_churn_No = df1[df1.Churn=='No'].TotalCharges\n",
    "Totalcharges_churn_Yes = df1[df1.Churn=='Yes'].TotalCharges\n",
    "plt.xlabel('TotalCharges')\n",
    "plt.ylabel('No of customers')\n",
    "plt.title('Customer Churn Prediction Visualization')\n",
    "plt.hist([Totalcharges_churn_No,Totalcharges_churn_Yes],label=['Churn=No','Churn=Yes'])\n",
    "plt.legend()"
   ]
  },
  {
   "cell_type": "code",
   "execution_count": 147,
   "id": "d2d380a2-838d-45cc-8806-1075e8cd5628",
   "metadata": {},
   "outputs": [],
   "source": [
    "def unique_col_values(df):\n",
    "    for column in df:\n",
    "        if df[column].dtypes=='object':\n",
    "            print(f'{column} : {df[column].unique()}')"
   ]
  },
  {
   "cell_type": "code",
   "execution_count": 148,
   "id": "9372b883-eb18-4e54-be0d-1290052d73a8",
   "metadata": {},
   "outputs": [
    {
     "name": "stdout",
     "output_type": "stream",
     "text": [
      "gender : ['Female' 'Male']\n",
      "Partner : ['Yes' 'No']\n",
      "Dependents : ['No' 'Yes']\n",
      "PhoneService : ['No' 'Yes']\n",
      "MultipleLines : ['No phone service' 'No' 'Yes']\n",
      "InternetService : ['DSL' 'Fiber optic' 'No']\n",
      "OnlineSecurity : ['No' 'Yes' 'No internet service']\n",
      "OnlineBackup : ['Yes' 'No' 'No internet service']\n",
      "DeviceProtection : ['No' 'Yes' 'No internet service']\n",
      "TechSupport : ['No' 'Yes' 'No internet service']\n",
      "StreamingTV : ['No' 'Yes' 'No internet service']\n",
      "StreamingMovies : ['No' 'Yes' 'No internet service']\n",
      "Contract : ['Month-to-month' 'One year' 'Two year']\n",
      "PaperlessBilling : ['Yes' 'No']\n",
      "PaymentMethod : ['Electronic check' 'Mailed check' 'Bank transfer (automatic)'\n",
      " 'Credit card (automatic)']\n",
      "Churn : ['No' 'Yes']\n"
     ]
    }
   ],
   "source": [
    "unique_col_values(df1)"
   ]
  },
  {
   "cell_type": "markdown",
   "id": "33102485-0f1e-4522-8771-5fb949ee0b0f",
   "metadata": {},
   "source": [
    "#### Converting Categorical values "
   ]
  },
  {
   "cell_type": "code",
   "execution_count": 151,
   "id": "6643cbdf-7493-4f99-af71-1d158911d9ce",
   "metadata": {},
   "outputs": [
    {
     "name": "stdout",
     "output_type": "stream",
     "text": [
      "gender : ['Female' 'Male']\n",
      "Partner : ['Yes' 'No']\n",
      "Dependents : ['No' 'Yes']\n",
      "PhoneService : ['No' 'Yes']\n",
      "MultipleLines : ['No' 'Yes']\n",
      "InternetService : ['DSL' 'Fiber optic' 'No']\n",
      "OnlineSecurity : ['No' 'Yes']\n",
      "OnlineBackup : ['Yes' 'No']\n",
      "DeviceProtection : ['No' 'Yes']\n",
      "TechSupport : ['No' 'Yes']\n",
      "StreamingTV : ['No' 'Yes']\n",
      "StreamingMovies : ['No' 'Yes']\n",
      "Contract : ['Month-to-month' 'One year' 'Two year']\n",
      "PaperlessBilling : ['Yes' 'No']\n",
      "PaymentMethod : ['Electronic check' 'Mailed check' 'Bank transfer (automatic)'\n",
      " 'Credit card (automatic)']\n",
      "Churn : ['No' 'Yes']\n"
     ]
    },
    {
     "name": "stderr",
     "output_type": "stream",
     "text": [
      "C:\\Users\\saras\\AppData\\Local\\Temp\\ipykernel_8500\\1630994789.py:1: SettingWithCopyWarning: \n",
      "A value is trying to be set on a copy of a slice from a DataFrame\n",
      "\n",
      "See the caveats in the documentation: https://pandas.pydata.org/pandas-docs/stable/user_guide/indexing.html#returning-a-view-versus-a-copy\n",
      "  df1.replace('No internet service','No',inplace=True)\n",
      "C:\\Users\\saras\\AppData\\Local\\Temp\\ipykernel_8500\\1630994789.py:2: SettingWithCopyWarning: \n",
      "A value is trying to be set on a copy of a slice from a DataFrame\n",
      "\n",
      "See the caveats in the documentation: https://pandas.pydata.org/pandas-docs/stable/user_guide/indexing.html#returning-a-view-versus-a-copy\n",
      "  df1.replace('No phone service','No',inplace=True)\n"
     ]
    }
   ],
   "source": [
    "df1.replace('No internet service','No',inplace=True)\n",
    "df1.replace('No phone service','No',inplace=True)\n",
    "unique_col_values(df1)"
   ]
  },
  {
   "cell_type": "code",
   "execution_count": 155,
   "id": "61c27274-48bc-4b22-8135-40a834cf0f8e",
   "metadata": {},
   "outputs": [],
   "source": [
    "yes_no_columns = ['Churn','PaperlessBilling','StreamingMovies','StreamingTV','TechSupport','DeviceProtection','OnlineBackup','OnlineSecurity',\n",
    "                  'MultipleLines','PhoneService','Dependents','Partner']"
   ]
  },
  {
   "cell_type": "code",
   "execution_count": 156,
   "id": "2d5686f0-7878-4623-8f77-9852aed80f82",
   "metadata": {},
   "outputs": [
    {
     "name": "stderr",
     "output_type": "stream",
     "text": [
      "C:\\Users\\saras\\AppData\\Local\\Temp\\ipykernel_8500\\2530482254.py:2: SettingWithCopyWarning: \n",
      "A value is trying to be set on a copy of a slice from a DataFrame\n",
      "\n",
      "See the caveats in the documentation: https://pandas.pydata.org/pandas-docs/stable/user_guide/indexing.html#returning-a-view-versus-a-copy\n",
      "  df1[col].replace({\n"
     ]
    }
   ],
   "source": [
    "for col in yes_no_columns:\n",
    "    df1[col].replace({\n",
    "        'Yes':1,\n",
    "        'No':0\n",
    "    },inplace=True)"
   ]
  },
  {
   "cell_type": "code",
   "execution_count": 160,
   "id": "bdccb4b4-31c0-4620-b578-ea3b16c15738",
   "metadata": {},
   "outputs": [
    {
     "name": "stdout",
     "output_type": "stream",
     "text": [
      "gender : ['Female' 'Male']\n",
      "SeniorCitizen : [0 1]\n",
      "Partner : [1 0]\n",
      "Dependents : [0 1]\n",
      "tenure : [ 1 34  2 45  8 22 10 28 62 13 16 58 49 25 69 52 71 21 12 30 47 72 17 27\n",
      "  5 46 11 70 63 43 15 60 18 66  9  3 31 50 64 56  7 42 35 48 29 65 38 68\n",
      " 32 55 37 36 41  6  4 33 67 23 57 61 14 20 53 40 59 24 44 19 54 51 26 39]\n",
      "PhoneService : [0 1]\n",
      "MultipleLines : [0 1]\n",
      "InternetService : ['DSL' 'Fiber optic' 'No']\n",
      "OnlineSecurity : [0 1]\n",
      "OnlineBackup : [1 0]\n",
      "DeviceProtection : [0 1]\n",
      "TechSupport : [0 1]\n",
      "StreamingTV : [0 1]\n",
      "StreamingMovies : [0 1]\n",
      "Contract : ['Month-to-month' 'One year' 'Two year']\n",
      "PaperlessBilling : [1 0]\n",
      "PaymentMethod : ['Electronic check' 'Mailed check' 'Bank transfer (automatic)'\n",
      " 'Credit card (automatic)']\n",
      "MonthlyCharges : [29.85 56.95 53.85 ... 63.1  44.2  78.7 ]\n",
      "TotalCharges : [  29.85 1889.5   108.15 ...  346.45  306.6  6844.5 ]\n",
      "Churn : [0 1]\n"
     ]
    }
   ],
   "source": [
    "for column in df1:\n",
    "    print(f'{column} : {df1[column].unique()}')"
   ]
  },
  {
   "cell_type": "code",
   "execution_count": 161,
   "id": "5b31443d-5520-404f-bf99-1e98351804a3",
   "metadata": {},
   "outputs": [
    {
     "name": "stderr",
     "output_type": "stream",
     "text": [
      "C:\\Users\\saras\\AppData\\Local\\Temp\\ipykernel_8500\\1354560788.py:1: SettingWithCopyWarning: \n",
      "A value is trying to be set on a copy of a slice from a DataFrame\n",
      "\n",
      "See the caveats in the documentation: https://pandas.pydata.org/pandas-docs/stable/user_guide/indexing.html#returning-a-view-versus-a-copy\n",
      "  df1.replace({'Female':1,'Male':0},inplace=True)\n"
     ]
    }
   ],
   "source": [
    "df1.replace({'Female':1,'Male':0},inplace=True)"
   ]
  },
  {
   "cell_type": "markdown",
   "id": "c6fc03a5-ebd6-4674-afae-bff4962c0c89",
   "metadata": {},
   "source": [
    "#### One hot Encoding"
   ]
  },
  {
   "cell_type": "code",
   "execution_count": 175,
   "id": "4747d587-f182-4444-a9c1-edb02aeaf5b6",
   "metadata": {},
   "outputs": [
    {
     "data": {
      "text/html": [
       "<div>\n",
       "<style scoped>\n",
       "    .dataframe tbody tr th:only-of-type {\n",
       "        vertical-align: middle;\n",
       "    }\n",
       "\n",
       "    .dataframe tbody tr th {\n",
       "        vertical-align: top;\n",
       "    }\n",
       "\n",
       "    .dataframe thead th {\n",
       "        text-align: right;\n",
       "    }\n",
       "</style>\n",
       "<table border=\"1\" class=\"dataframe\">\n",
       "  <thead>\n",
       "    <tr style=\"text-align: right;\">\n",
       "      <th></th>\n",
       "      <th>gender</th>\n",
       "      <th>SeniorCitizen</th>\n",
       "      <th>Partner</th>\n",
       "      <th>Dependents</th>\n",
       "      <th>tenure</th>\n",
       "      <th>PhoneService</th>\n",
       "      <th>MultipleLines</th>\n",
       "      <th>OnlineSecurity</th>\n",
       "      <th>OnlineBackup</th>\n",
       "      <th>DeviceProtection</th>\n",
       "      <th>...</th>\n",
       "      <th>Contract_Month-to-month</th>\n",
       "      <th>Contract_One year</th>\n",
       "      <th>Contract_Two year</th>\n",
       "      <th>PaymentMethod_Bank transfer (automatic)</th>\n",
       "      <th>PaymentMethod_Credit card (automatic)</th>\n",
       "      <th>PaymentMethod_Electronic check</th>\n",
       "      <th>PaymentMethod_Mailed check</th>\n",
       "      <th>InternetService_DSL</th>\n",
       "      <th>InternetService_Fiber optic</th>\n",
       "      <th>InternetService_No</th>\n",
       "    </tr>\n",
       "  </thead>\n",
       "  <tbody>\n",
       "    <tr>\n",
       "      <th>0</th>\n",
       "      <td>1</td>\n",
       "      <td>0</td>\n",
       "      <td>1</td>\n",
       "      <td>0</td>\n",
       "      <td>1</td>\n",
       "      <td>0</td>\n",
       "      <td>0</td>\n",
       "      <td>0</td>\n",
       "      <td>1</td>\n",
       "      <td>0</td>\n",
       "      <td>...</td>\n",
       "      <td>1</td>\n",
       "      <td>0</td>\n",
       "      <td>0</td>\n",
       "      <td>0</td>\n",
       "      <td>0</td>\n",
       "      <td>1</td>\n",
       "      <td>0</td>\n",
       "      <td>1</td>\n",
       "      <td>0</td>\n",
       "      <td>0</td>\n",
       "    </tr>\n",
       "    <tr>\n",
       "      <th>1</th>\n",
       "      <td>0</td>\n",
       "      <td>0</td>\n",
       "      <td>0</td>\n",
       "      <td>0</td>\n",
       "      <td>34</td>\n",
       "      <td>1</td>\n",
       "      <td>0</td>\n",
       "      <td>1</td>\n",
       "      <td>0</td>\n",
       "      <td>1</td>\n",
       "      <td>...</td>\n",
       "      <td>0</td>\n",
       "      <td>1</td>\n",
       "      <td>0</td>\n",
       "      <td>0</td>\n",
       "      <td>0</td>\n",
       "      <td>0</td>\n",
       "      <td>1</td>\n",
       "      <td>1</td>\n",
       "      <td>0</td>\n",
       "      <td>0</td>\n",
       "    </tr>\n",
       "    <tr>\n",
       "      <th>2</th>\n",
       "      <td>0</td>\n",
       "      <td>0</td>\n",
       "      <td>0</td>\n",
       "      <td>0</td>\n",
       "      <td>2</td>\n",
       "      <td>1</td>\n",
       "      <td>0</td>\n",
       "      <td>1</td>\n",
       "      <td>1</td>\n",
       "      <td>0</td>\n",
       "      <td>...</td>\n",
       "      <td>1</td>\n",
       "      <td>0</td>\n",
       "      <td>0</td>\n",
       "      <td>0</td>\n",
       "      <td>0</td>\n",
       "      <td>0</td>\n",
       "      <td>1</td>\n",
       "      <td>1</td>\n",
       "      <td>0</td>\n",
       "      <td>0</td>\n",
       "    </tr>\n",
       "  </tbody>\n",
       "</table>\n",
       "<p>3 rows × 27 columns</p>\n",
       "</div>"
      ],
      "text/plain": [
       "   gender  SeniorCitizen  Partner  Dependents  tenure  PhoneService  \\\n",
       "0       1              0        1           0       1             0   \n",
       "1       0              0        0           0      34             1   \n",
       "2       0              0        0           0       2             1   \n",
       "\n",
       "   MultipleLines  OnlineSecurity  OnlineBackup  DeviceProtection  ...  \\\n",
       "0              0               0             1                 0  ...   \n",
       "1              0               1             0                 1  ...   \n",
       "2              0               1             1                 0  ...   \n",
       "\n",
       "   Contract_Month-to-month  Contract_One year  Contract_Two year  \\\n",
       "0                        1                  0                  0   \n",
       "1                        0                  1                  0   \n",
       "2                        1                  0                  0   \n",
       "\n",
       "   PaymentMethod_Bank transfer (automatic)  \\\n",
       "0                                        0   \n",
       "1                                        0   \n",
       "2                                        0   \n",
       "\n",
       "   PaymentMethod_Credit card (automatic)  PaymentMethod_Electronic check  \\\n",
       "0                                      0                               1   \n",
       "1                                      0                               0   \n",
       "2                                      0                               0   \n",
       "\n",
       "   PaymentMethod_Mailed check  InternetService_DSL  \\\n",
       "0                           0                    1   \n",
       "1                           1                    1   \n",
       "2                           1                    1   \n",
       "\n",
       "   InternetService_Fiber optic  InternetService_No  \n",
       "0                            0                   0  \n",
       "1                            0                   0  \n",
       "2                            0                   0  \n",
       "\n",
       "[3 rows x 27 columns]"
      ]
     },
     "execution_count": 175,
     "metadata": {},
     "output_type": "execute_result"
    }
   ],
   "source": [
    "df2 = pd.get_dummies(data=df1,columns=['Contract','PaymentMethod','InternetService'])\n",
    "df2.head(3)"
   ]
  },
  {
   "cell_type": "markdown",
   "id": "019526c6-46ab-4ad0-9ac2-5360086f5d81",
   "metadata": {},
   "source": [
    "#### Scaling"
   ]
  },
  {
   "cell_type": "code",
   "execution_count": 179,
   "id": "2a409ec9-082b-4662-8ef7-5e0f1a12a2f3",
   "metadata": {},
   "outputs": [],
   "source": [
    "cols_to_scale= ['tenure','MonthlyCharges','TotalCharges']\n",
    "from sklearn.preprocessing import MinMaxScaler\n",
    "scaler=MinMaxScaler()\n",
    "df2[cols_to_scale] = scaler.fit_transform(df2[cols_to_scale])"
   ]
  },
  {
   "cell_type": "code",
   "execution_count": 180,
   "id": "9c2d779f-f8f9-4d2b-9e08-037eef497503",
   "metadata": {},
   "outputs": [
    {
     "data": {
      "text/html": [
       "<div>\n",
       "<style scoped>\n",
       "    .dataframe tbody tr th:only-of-type {\n",
       "        vertical-align: middle;\n",
       "    }\n",
       "\n",
       "    .dataframe tbody tr th {\n",
       "        vertical-align: top;\n",
       "    }\n",
       "\n",
       "    .dataframe thead th {\n",
       "        text-align: right;\n",
       "    }\n",
       "</style>\n",
       "<table border=\"1\" class=\"dataframe\">\n",
       "  <thead>\n",
       "    <tr style=\"text-align: right;\">\n",
       "      <th></th>\n",
       "      <th>gender</th>\n",
       "      <th>SeniorCitizen</th>\n",
       "      <th>Partner</th>\n",
       "      <th>Dependents</th>\n",
       "      <th>tenure</th>\n",
       "      <th>PhoneService</th>\n",
       "      <th>MultipleLines</th>\n",
       "      <th>OnlineSecurity</th>\n",
       "      <th>OnlineBackup</th>\n",
       "      <th>DeviceProtection</th>\n",
       "      <th>...</th>\n",
       "      <th>Contract_Month-to-month</th>\n",
       "      <th>Contract_One year</th>\n",
       "      <th>Contract_Two year</th>\n",
       "      <th>PaymentMethod_Bank transfer (automatic)</th>\n",
       "      <th>PaymentMethod_Credit card (automatic)</th>\n",
       "      <th>PaymentMethod_Electronic check</th>\n",
       "      <th>PaymentMethod_Mailed check</th>\n",
       "      <th>InternetService_DSL</th>\n",
       "      <th>InternetService_Fiber optic</th>\n",
       "      <th>InternetService_No</th>\n",
       "    </tr>\n",
       "  </thead>\n",
       "  <tbody>\n",
       "    <tr>\n",
       "      <th>0</th>\n",
       "      <td>1</td>\n",
       "      <td>0</td>\n",
       "      <td>1</td>\n",
       "      <td>0</td>\n",
       "      <td>0.000000</td>\n",
       "      <td>0</td>\n",
       "      <td>0</td>\n",
       "      <td>0</td>\n",
       "      <td>1</td>\n",
       "      <td>0</td>\n",
       "      <td>...</td>\n",
       "      <td>1</td>\n",
       "      <td>0</td>\n",
       "      <td>0</td>\n",
       "      <td>0</td>\n",
       "      <td>0</td>\n",
       "      <td>1</td>\n",
       "      <td>0</td>\n",
       "      <td>1</td>\n",
       "      <td>0</td>\n",
       "      <td>0</td>\n",
       "    </tr>\n",
       "    <tr>\n",
       "      <th>1</th>\n",
       "      <td>0</td>\n",
       "      <td>0</td>\n",
       "      <td>0</td>\n",
       "      <td>0</td>\n",
       "      <td>0.464789</td>\n",
       "      <td>1</td>\n",
       "      <td>0</td>\n",
       "      <td>1</td>\n",
       "      <td>0</td>\n",
       "      <td>1</td>\n",
       "      <td>...</td>\n",
       "      <td>0</td>\n",
       "      <td>1</td>\n",
       "      <td>0</td>\n",
       "      <td>0</td>\n",
       "      <td>0</td>\n",
       "      <td>0</td>\n",
       "      <td>1</td>\n",
       "      <td>1</td>\n",
       "      <td>0</td>\n",
       "      <td>0</td>\n",
       "    </tr>\n",
       "    <tr>\n",
       "      <th>2</th>\n",
       "      <td>0</td>\n",
       "      <td>0</td>\n",
       "      <td>0</td>\n",
       "      <td>0</td>\n",
       "      <td>0.014085</td>\n",
       "      <td>1</td>\n",
       "      <td>0</td>\n",
       "      <td>1</td>\n",
       "      <td>1</td>\n",
       "      <td>0</td>\n",
       "      <td>...</td>\n",
       "      <td>1</td>\n",
       "      <td>0</td>\n",
       "      <td>0</td>\n",
       "      <td>0</td>\n",
       "      <td>0</td>\n",
       "      <td>0</td>\n",
       "      <td>1</td>\n",
       "      <td>1</td>\n",
       "      <td>0</td>\n",
       "      <td>0</td>\n",
       "    </tr>\n",
       "  </tbody>\n",
       "</table>\n",
       "<p>3 rows × 27 columns</p>\n",
       "</div>"
      ],
      "text/plain": [
       "   gender  SeniorCitizen  Partner  Dependents    tenure  PhoneService  \\\n",
       "0       1              0        1           0  0.000000             0   \n",
       "1       0              0        0           0  0.464789             1   \n",
       "2       0              0        0           0  0.014085             1   \n",
       "\n",
       "   MultipleLines  OnlineSecurity  OnlineBackup  DeviceProtection  ...  \\\n",
       "0              0               0             1                 0  ...   \n",
       "1              0               1             0                 1  ...   \n",
       "2              0               1             1                 0  ...   \n",
       "\n",
       "   Contract_Month-to-month  Contract_One year  Contract_Two year  \\\n",
       "0                        1                  0                  0   \n",
       "1                        0                  1                  0   \n",
       "2                        1                  0                  0   \n",
       "\n",
       "   PaymentMethod_Bank transfer (automatic)  \\\n",
       "0                                        0   \n",
       "1                                        0   \n",
       "2                                        0   \n",
       "\n",
       "   PaymentMethod_Credit card (automatic)  PaymentMethod_Electronic check  \\\n",
       "0                                      0                               1   \n",
       "1                                      0                               0   \n",
       "2                                      0                               0   \n",
       "\n",
       "   PaymentMethod_Mailed check  InternetService_DSL  \\\n",
       "0                           0                    1   \n",
       "1                           1                    1   \n",
       "2                           1                    1   \n",
       "\n",
       "   InternetService_Fiber optic  InternetService_No  \n",
       "0                            0                   0  \n",
       "1                            0                   0  \n",
       "2                            0                   0  \n",
       "\n",
       "[3 rows x 27 columns]"
      ]
     },
     "execution_count": 180,
     "metadata": {},
     "output_type": "execute_result"
    }
   ],
   "source": [
    "df2.head(3)"
   ]
  },
  {
   "cell_type": "code",
   "execution_count": 182,
   "id": "d1db7533-aa2f-4db6-a0c0-f26c3fd53dac",
   "metadata": {},
   "outputs": [],
   "source": [
    "X= df2.drop('Churn',axis=1)\n",
    "y= df2['Churn']"
   ]
  },
  {
   "cell_type": "code",
   "execution_count": 205,
   "id": "dfdc2a6d-37d5-47da-ac1a-f9ef3e466570",
   "metadata": {},
   "outputs": [],
   "source": [
    "from sklearn.model_selection import train_test_split\n",
    "X_train,X_test,y_train,y_test = train_test_split(X,y,test_size=0.25,random_state=5) "
   ]
  },
  {
   "cell_type": "code",
   "execution_count": 186,
   "id": "9550fc2c-ed3d-4b55-b43e-69f6c0610395",
   "metadata": {},
   "outputs": [
    {
     "name": "stdout",
     "output_type": "stream",
     "text": [
      "Epoch 1/50\n",
      "176/176 [==============================] - 1s 2ms/step - loss: 0.5900 - accuracy: 0.6540\n",
      "Epoch 2/50\n",
      "176/176 [==============================] - 0s 2ms/step - loss: 0.4333 - accuracy: 0.7934\n",
      "Epoch 3/50\n",
      "176/176 [==============================] - 0s 2ms/step - loss: 0.4217 - accuracy: 0.8000\n",
      "Epoch 4/50\n",
      "176/176 [==============================] - 0s 2ms/step - loss: 0.4171 - accuracy: 0.8036\n",
      "Epoch 5/50\n",
      "176/176 [==============================] - 0s 2ms/step - loss: 0.4150 - accuracy: 0.8034\n",
      "Epoch 6/50\n",
      "176/176 [==============================] - 0s 2ms/step - loss: 0.4136 - accuracy: 0.8062\n",
      "Epoch 7/50\n",
      "176/176 [==============================] - 0s 1ms/step - loss: 0.4122 - accuracy: 0.8091\n",
      "Epoch 8/50\n",
      "176/176 [==============================] - 0s 1ms/step - loss: 0.4119 - accuracy: 0.8064\n",
      "Epoch 9/50\n",
      "176/176 [==============================] - 0s 1ms/step - loss: 0.4102 - accuracy: 0.8091\n",
      "Epoch 10/50\n",
      "176/176 [==============================] - 0s 1ms/step - loss: 0.4091 - accuracy: 0.8089\n",
      "Epoch 11/50\n",
      "176/176 [==============================] - 0s 1ms/step - loss: 0.4083 - accuracy: 0.8094\n",
      "Epoch 12/50\n",
      "176/176 [==============================] - 0s 1ms/step - loss: 0.4075 - accuracy: 0.8098\n",
      "Epoch 13/50\n",
      "176/176 [==============================] - 0s 1ms/step - loss: 0.4074 - accuracy: 0.8066\n",
      "Epoch 14/50\n",
      "176/176 [==============================] - 0s 1ms/step - loss: 0.4065 - accuracy: 0.8110\n",
      "Epoch 15/50\n",
      "176/176 [==============================] - 0s 1ms/step - loss: 0.4061 - accuracy: 0.8103\n",
      "Epoch 16/50\n",
      "176/176 [==============================] - 0s 1ms/step - loss: 0.4049 - accuracy: 0.8098\n",
      "Epoch 17/50\n",
      "176/176 [==============================] - 0s 1ms/step - loss: 0.4052 - accuracy: 0.8121\n",
      "Epoch 18/50\n",
      "176/176 [==============================] - 0s 1ms/step - loss: 0.4046 - accuracy: 0.8101\n",
      "Epoch 19/50\n",
      "176/176 [==============================] - 0s 1ms/step - loss: 0.4034 - accuracy: 0.8108\n",
      "Epoch 20/50\n",
      "176/176 [==============================] - 0s 1ms/step - loss: 0.4037 - accuracy: 0.8110\n",
      "Epoch 21/50\n",
      "176/176 [==============================] - 0s 1ms/step - loss: 0.4028 - accuracy: 0.8130\n",
      "Epoch 22/50\n",
      "176/176 [==============================] - 0s 1ms/step - loss: 0.4025 - accuracy: 0.8107\n",
      "Epoch 23/50\n",
      "176/176 [==============================] - 0s 1ms/step - loss: 0.4018 - accuracy: 0.8108\n",
      "Epoch 24/50\n",
      "176/176 [==============================] - 0s 1ms/step - loss: 0.4018 - accuracy: 0.8140\n",
      "Epoch 25/50\n",
      "176/176 [==============================] - 0s 1ms/step - loss: 0.4024 - accuracy: 0.8108\n",
      "Epoch 26/50\n",
      "176/176 [==============================] - 0s 1ms/step - loss: 0.4004 - accuracy: 0.8110\n",
      "Epoch 27/50\n",
      "176/176 [==============================] - 0s 1ms/step - loss: 0.4005 - accuracy: 0.8133\n",
      "Epoch 28/50\n",
      "176/176 [==============================] - 0s 1ms/step - loss: 0.3998 - accuracy: 0.8133\n",
      "Epoch 29/50\n",
      "176/176 [==============================] - 0s 1ms/step - loss: 0.4002 - accuracy: 0.8123\n",
      "Epoch 30/50\n",
      "176/176 [==============================] - 0s 1ms/step - loss: 0.3987 - accuracy: 0.8153\n",
      "Epoch 31/50\n",
      "176/176 [==============================] - 0s 1ms/step - loss: 0.3991 - accuracy: 0.8156\n",
      "Epoch 32/50\n",
      "176/176 [==============================] - 0s 1ms/step - loss: 0.3981 - accuracy: 0.8123\n",
      "Epoch 33/50\n",
      "176/176 [==============================] - 0s 1ms/step - loss: 0.3984 - accuracy: 0.8151\n",
      "Epoch 34/50\n",
      "176/176 [==============================] - 0s 1ms/step - loss: 0.3978 - accuracy: 0.8155\n",
      "Epoch 35/50\n",
      "176/176 [==============================] - 0s 1ms/step - loss: 0.3972 - accuracy: 0.8130\n",
      "Epoch 36/50\n",
      "176/176 [==============================] - 0s 1ms/step - loss: 0.3965 - accuracy: 0.8153\n",
      "Epoch 37/50\n",
      "176/176 [==============================] - 0s 1ms/step - loss: 0.3965 - accuracy: 0.8151\n",
      "Epoch 38/50\n",
      "176/176 [==============================] - 0s 1ms/step - loss: 0.3964 - accuracy: 0.8164\n",
      "Epoch 39/50\n",
      "176/176 [==============================] - 0s 1ms/step - loss: 0.3966 - accuracy: 0.8160\n",
      "Epoch 40/50\n",
      "176/176 [==============================] - 0s 1ms/step - loss: 0.3965 - accuracy: 0.8158\n",
      "Epoch 41/50\n",
      "176/176 [==============================] - 0s 1ms/step - loss: 0.3956 - accuracy: 0.8160\n",
      "Epoch 42/50\n",
      "176/176 [==============================] - 0s 1ms/step - loss: 0.3951 - accuracy: 0.8176\n",
      "Epoch 43/50\n",
      "176/176 [==============================] - 0s 1ms/step - loss: 0.3950 - accuracy: 0.8119\n",
      "Epoch 44/50\n",
      "176/176 [==============================] - 0s 1ms/step - loss: 0.3940 - accuracy: 0.8174\n",
      "Epoch 45/50\n",
      "176/176 [==============================] - 0s 1ms/step - loss: 0.3933 - accuracy: 0.8165\n",
      "Epoch 46/50\n",
      "176/176 [==============================] - 0s 1ms/step - loss: 0.3937 - accuracy: 0.8153\n",
      "Epoch 47/50\n",
      "176/176 [==============================] - 0s 1ms/step - loss: 0.3932 - accuracy: 0.8149\n",
      "Epoch 48/50\n",
      "176/176 [==============================] - 0s 1ms/step - loss: 0.3930 - accuracy: 0.8174\n",
      "Epoch 49/50\n",
      "176/176 [==============================] - 0s 1ms/step - loss: 0.3932 - accuracy: 0.8197\n",
      "Epoch 50/50\n",
      "176/176 [==============================] - 0s 1ms/step - loss: 0.3921 - accuracy: 0.8160\n"
     ]
    },
    {
     "data": {
      "text/plain": [
       "<keras.callbacks.History at 0x2484e410970>"
      ]
     },
     "execution_count": 186,
     "metadata": {},
     "output_type": "execute_result"
    }
   ],
   "source": [
    "model=keras.Sequential([\n",
    "    keras.layers.Dense(15,input_shape=(26,),activation='relu'),\n",
    "    keras.layers.Dense(10,activation='relu'),\n",
    "    keras.layers.Dense(1,activation='sigmoid')\n",
    "])\n",
    "model.compile(\n",
    "    optimizer='adam',\n",
    "    loss= 'binary_crossentropy',\n",
    "    metrics=['accuracy']\n",
    ")\n",
    "model.fit(X_train,y_train,epochs=50)"
   ]
  },
  {
   "cell_type": "code",
   "execution_count": 187,
   "id": "9abed4f3-d398-4f2c-b1ae-7b51102dd9c4",
   "metadata": {},
   "outputs": [
    {
     "name": "stdout",
     "output_type": "stream",
     "text": [
      "44/44 [==============================] - 0s 2ms/step - loss: 0.4485 - accuracy: 0.7804\n"
     ]
    },
    {
     "data": {
      "text/plain": [
       "[0.4484991729259491, 0.7803837656974792]"
      ]
     },
     "execution_count": 187,
     "metadata": {},
     "output_type": "execute_result"
    }
   ],
   "source": [
    "model.evaluate(X_test,y_test)"
   ]
  },
  {
   "cell_type": "code",
   "execution_count": 188,
   "id": "a4a44154-d4d1-42ca-affc-657b8ec5f0ac",
   "metadata": {},
   "outputs": [
    {
     "data": {
      "text/plain": [
       "array([[0.22549191],\n",
       "       [0.43130273],\n",
       "       [0.00689787],\n",
       "       [0.7256677 ],\n",
       "       [0.6417502 ]], dtype=float32)"
      ]
     },
     "execution_count": 188,
     "metadata": {},
     "output_type": "execute_result"
    }
   ],
   "source": [
    "y_predicted = model.predict(X_test)\n",
    "y_predicted[:5]"
   ]
  },
  {
   "cell_type": "code",
   "execution_count": 197,
   "id": "25ecc3f2-5429-474e-a29a-0c3af2ae08a3",
   "metadata": {},
   "outputs": [
    {
     "data": {
      "text/plain": [
       "array([[0.],\n",
       "       [0.],\n",
       "       [0.],\n",
       "       [1.],\n",
       "       [1.]], dtype=float32)"
      ]
     },
     "execution_count": 197,
     "metadata": {},
     "output_type": "execute_result"
    }
   ],
   "source": [
    "np.round(model.predict(X_test))[:5]"
   ]
  },
  {
   "cell_type": "code",
   "execution_count": 189,
   "id": "11891e23-9a41-4880-ad17-1d68801e7eb9",
   "metadata": {},
   "outputs": [
    {
     "data": {
      "text/plain": [
       "2660    0\n",
       "744     0\n",
       "5579    1\n",
       "64      1\n",
       "3287    1\n",
       "Name: Churn, dtype: int64"
      ]
     },
     "execution_count": 189,
     "metadata": {},
     "output_type": "execute_result"
    }
   ],
   "source": [
    "y_test[:5]"
   ]
  },
  {
   "cell_type": "code",
   "execution_count": 191,
   "id": "94b9dc7b-bf05-4204-aefb-ce7c44857813",
   "metadata": {},
   "outputs": [],
   "source": [
    "y_pred=[]\n",
    "for i in y_predicted:\n",
    "    if i<.5:\n",
    "        y_pred.append(0)\n",
    "    else:\n",
    "        y_pred.append(1)"
   ]
  },
  {
   "cell_type": "code",
   "execution_count": 192,
   "id": "952d1c77-5903-42df-9ef0-32545e75a191",
   "metadata": {},
   "outputs": [
    {
     "data": {
      "text/plain": [
       "[0, 0, 0, 1, 1]"
      ]
     },
     "execution_count": 192,
     "metadata": {},
     "output_type": "execute_result"
    }
   ],
   "source": [
    "y_pred[:5]"
   ]
  },
  {
   "cell_type": "code",
   "execution_count": 193,
   "id": "7466b5b9-5684-448c-96fc-4280ed0d8e70",
   "metadata": {},
   "outputs": [
    {
     "name": "stdout",
     "output_type": "stream",
     "text": [
      "              precision    recall  f1-score   support\n",
      "\n",
      "           0       0.82      0.89      0.85       999\n",
      "           1       0.66      0.50      0.57       408\n",
      "\n",
      "    accuracy                           0.78      1407\n",
      "   macro avg       0.74      0.70      0.71      1407\n",
      "weighted avg       0.77      0.78      0.77      1407\n",
      "\n"
     ]
    }
   ],
   "source": [
    "from sklearn.metrics import confusion_matrix,classification_report\n",
    "print(classification_report(y_test,y_pred))"
   ]
  },
  {
   "cell_type": "code",
   "execution_count": 194,
   "id": "e8533c99-e9ba-49d5-93f8-a3b2cb42f597",
   "metadata": {},
   "outputs": [
    {
     "data": {
      "text/plain": [
       "Text(50.722222222222214, 0.5, 'Truth')"
      ]
     },
     "execution_count": 194,
     "metadata": {},
     "output_type": "execute_result"
    },
    {
     "data": {
      "image/png": "[encoded data removed]",
      "text/plain": [
       "<Figure size 640x480 with 2 Axes>"
      ]
     },
     "metadata": {},
     "output_type": "display_data"
    }
   ],
   "source": [
    "import seaborn as sns\n",
    "cm = tf.math.confusion_matrix(labels=y_test,predictions=y_pred)\n",
    "sns.heatmap(cm,annot=True,fmt='d')\n",
    "plt.xlabel('Predicted')\n",
    "plt.ylabel('Truth')"
   ]
  },
  {
   "cell_type": "code",
   "execution_count": 206,
   "id": "128ad08e-c13a-4c68-9335-bbc943e33c95",
   "metadata": {},
   "outputs": [],
   "source": [
    "def ANN(X_train,y_train,X_test,y_test,loss,weights):\n",
    "    model=keras.Sequential([\n",
    "        keras.layers.Dense(15,input_shape=(26,),activation='relu'),\n",
    "        keras.layers.Dense(10,activation='relu'),\n",
    "        keras.layers.Dense(1,activation='sigmoid')\n",
    "    ])\n",
    "    model.compile(\n",
    "        optimizer='adam',\n",
    "        loss= loss,\n",
    "        metrics=['accuracy']\n",
    "    )\n",
    "    if weights==-1:\n",
    "        model.fit(X_train,y_train,epochs=50)\n",
    "    else:\n",
    "        model.fit(X_train,y_train,epochs=50,class_weight = weights) \n",
    "    \n",
    "    print(\"Model_Evaluation:\\n \",model.evaluate(X_test,y_test))\n",
    "    y_pred = np.round(model.predict(X_test))\n",
    "    print(\"Classification_report:\\n\",classification_report(y_test,y_pred))\n",
    "    \n",
    "    return y_pred"
   ]
  },
  {
   "cell_type": "code",
   "execution_count": 207,
   "id": "7cfd906e-5aab-4f3d-a843-cea41bdc6cee",
   "metadata": {},
   "outputs": [
    {
     "name": "stdout",
     "output_type": "stream",
     "text": [
      "Epoch 1/50\n",
      "165/165 [==============================] - 1s 1ms/step - loss: 0.5242 - accuracy: 0.7440\n",
      "Epoch 2/50\n",
      "165/165 [==============================] - 0s 1ms/step - loss: 0.4377 - accuracy: 0.7854\n",
      "Epoch 3/50\n",
      "165/165 [==============================] - 0s 1ms/step - loss: 0.4242 - accuracy: 0.7960\n",
      "Epoch 4/50\n",
      "165/165 [==============================] - 0s 1ms/step - loss: 0.4192 - accuracy: 0.7990\n",
      "Epoch 5/50\n",
      "165/165 [==============================] - 0s 1ms/step - loss: 0.4155 - accuracy: 0.8039\n",
      "Epoch 6/50\n",
      "165/165 [==============================] - 0s 1ms/step - loss: 0.4140 - accuracy: 0.8013\n",
      "Epoch 7/50\n",
      "165/165 [==============================] - 0s 1ms/step - loss: 0.4120 - accuracy: 0.8053\n",
      "Epoch 8/50\n",
      "165/165 [==============================] - 0s 1ms/step - loss: 0.4106 - accuracy: 0.8058\n",
      "Epoch 9/50\n",
      "165/165 [==============================] - 0s 1ms/step - loss: 0.4094 - accuracy: 0.8074\n",
      "Epoch 10/50\n",
      "165/165 [==============================] - 0s 1ms/step - loss: 0.4079 - accuracy: 0.8070\n",
      "Epoch 11/50\n",
      "165/165 [==============================] - 0s 1ms/step - loss: 0.4070 - accuracy: 0.8077\n",
      "Epoch 12/50\n",
      "165/165 [==============================] - 0s 1ms/step - loss: 0.4068 - accuracy: 0.8083\n",
      "Epoch 13/50\n",
      "165/165 [==============================] - 0s 1ms/step - loss: 0.4049 - accuracy: 0.8098\n",
      "Epoch 14/50\n",
      "165/165 [==============================] - 0s 1ms/step - loss: 0.4043 - accuracy: 0.8091\n",
      "Epoch 15/50\n",
      "165/165 [==============================] - 0s 1ms/step - loss: 0.4029 - accuracy: 0.8104\n",
      "Epoch 16/50\n",
      "165/165 [==============================] - 0s 1ms/step - loss: 0.4032 - accuracy: 0.8144\n",
      "Epoch 17/50\n",
      "165/165 [==============================] - 0s 1ms/step - loss: 0.4038 - accuracy: 0.8113\n",
      "Epoch 18/50\n",
      "165/165 [==============================] - 0s 1ms/step - loss: 0.4011 - accuracy: 0.8151\n",
      "Epoch 19/50\n",
      "165/165 [==============================] - 0s 1ms/step - loss: 0.4014 - accuracy: 0.8110\n",
      "Epoch 20/50\n",
      "165/165 [==============================] - 0s 1ms/step - loss: 0.4006 - accuracy: 0.8140\n",
      "Epoch 21/50\n",
      "165/165 [==============================] - 0s 1ms/step - loss: 0.3994 - accuracy: 0.8144\n",
      "Epoch 22/50\n",
      "165/165 [==============================] - 0s 1ms/step - loss: 0.3988 - accuracy: 0.8149\n",
      "Epoch 23/50\n",
      "165/165 [==============================] - 0s 1ms/step - loss: 0.3986 - accuracy: 0.8146\n",
      "Epoch 24/50\n",
      "165/165 [==============================] - 0s 1ms/step - loss: 0.3984 - accuracy: 0.8142\n",
      "Epoch 25/50\n",
      "165/165 [==============================] - 0s 1ms/step - loss: 0.3984 - accuracy: 0.8146\n",
      "Epoch 26/50\n",
      "165/165 [==============================] - 0s 1ms/step - loss: 0.3973 - accuracy: 0.8184\n",
      "Epoch 27/50\n",
      "165/165 [==============================] - 0s 1ms/step - loss: 0.3972 - accuracy: 0.8170\n",
      "Epoch 28/50\n",
      "165/165 [==============================] - 0s 1ms/step - loss: 0.3966 - accuracy: 0.8157\n",
      "Epoch 29/50\n",
      "165/165 [==============================] - 0s 1ms/step - loss: 0.3964 - accuracy: 0.8146\n",
      "Epoch 30/50\n",
      "165/165 [==============================] - 0s 1ms/step - loss: 0.3955 - accuracy: 0.8170\n",
      "Epoch 31/50\n",
      "165/165 [==============================] - 0s 1ms/step - loss: 0.3953 - accuracy: 0.8161\n",
      "Epoch 32/50\n",
      "165/165 [==============================] - 0s 1ms/step - loss: 0.3944 - accuracy: 0.8166\n",
      "Epoch 33/50\n",
      "165/165 [==============================] - 0s 1ms/step - loss: 0.3944 - accuracy: 0.8187\n",
      "Epoch 34/50\n",
      "165/165 [==============================] - 0s 1ms/step - loss: 0.3927 - accuracy: 0.8159\n",
      "Epoch 35/50\n",
      "165/165 [==============================] - 0s 1ms/step - loss: 0.3939 - accuracy: 0.8161\n",
      "Epoch 36/50\n",
      "165/165 [==============================] - 0s 1ms/step - loss: 0.3924 - accuracy: 0.8178\n",
      "Epoch 37/50\n",
      "165/165 [==============================] - 0s 1ms/step - loss: 0.3926 - accuracy: 0.8180\n",
      "Epoch 38/50\n",
      "165/165 [==============================] - 0s 1ms/step - loss: 0.3922 - accuracy: 0.8197\n",
      "Epoch 39/50\n",
      "165/165 [==============================] - 0s 1ms/step - loss: 0.3917 - accuracy: 0.8176\n",
      "Epoch 40/50\n",
      "165/165 [==============================] - 0s 1ms/step - loss: 0.3910 - accuracy: 0.8172\n",
      "Epoch 41/50\n",
      "165/165 [==============================] - 0s 1ms/step - loss: 0.3902 - accuracy: 0.8189\n",
      "Epoch 42/50\n",
      "165/165 [==============================] - 0s 1ms/step - loss: 0.3904 - accuracy: 0.8199\n",
      "Epoch 43/50\n",
      "165/165 [==============================] - 0s 1ms/step - loss: 0.3895 - accuracy: 0.8187\n",
      "Epoch 44/50\n",
      "165/165 [==============================] - 0s 1ms/step - loss: 0.3895 - accuracy: 0.8180\n",
      "Epoch 45/50\n",
      "165/165 [==============================] - 0s 1ms/step - loss: 0.3894 - accuracy: 0.8218\n",
      "Epoch 46/50\n",
      "165/165 [==============================] - 0s 1ms/step - loss: 0.3888 - accuracy: 0.8180\n",
      "Epoch 47/50\n",
      "165/165 [==============================] - 0s 1ms/step - loss: 0.3887 - accuracy: 0.8237\n",
      "Epoch 48/50\n",
      "165/165 [==============================] - 0s 1ms/step - loss: 0.3883 - accuracy: 0.8210\n",
      "Epoch 49/50\n",
      "165/165 [==============================] - 0s 1ms/step - loss: 0.3872 - accuracy: 0.8214\n",
      "Epoch 50/50\n",
      "165/165 [==============================] - 0s 1ms/step - loss: 0.3878 - accuracy: 0.8208\n",
      "55/55 [==============================] - 0s 1ms/step - loss: 0.4557 - accuracy: 0.7747\n",
      "Model_Evaluation:\n",
      "  [0.4557226300239563, 0.7747440338134766]\n",
      "Classification_report:\n",
      "               precision    recall  f1-score   support\n",
      "\n",
      "           0       0.83      0.87      0.85      1267\n",
      "           1       0.61      0.52      0.56       491\n",
      "\n",
      "    accuracy                           0.77      1758\n",
      "   macro avg       0.72      0.70      0.71      1758\n",
      "weighted avg       0.77      0.77      0.77      1758\n",
      "\n"
     ]
    }
   ],
   "source": [
    "y_pred = ANN(X_train,y_train,X_test,y_test,'binary_crossentropy',-1)"
   ]
  },
  {
   "cell_type": "markdown",
   "id": "3e757612-8d5b-4cee-bbff-09302f2d7c74",
   "metadata": {},
   "source": [
    "#### How to improve f1 score of imbalanced dataset\n"
   ]
  },
  {
   "cell_type": "code",
   "execution_count": 208,
   "id": "393f31aa-6ac6-42cb-b1f7-3ac2f5672806",
   "metadata": {},
   "outputs": [
    {
     "data": {
      "text/plain": [
       "0    1267\n",
       "1     491\n",
       "Name: Churn, dtype: int64"
      ]
     },
     "execution_count": 208,
     "metadata": {},
     "output_type": "execute_result"
    }
   ],
   "source": [
    "y_test.value_counts()"
   ]
  },
  {
   "cell_type": "code",
   "execution_count": 209,
   "id": "3cd97e73-aa5d-4141-ad10-47a9cde362c4",
   "metadata": {},
   "outputs": [
    {
     "data": {
      "text/plain": [
       "(5274, 26)"
      ]
     },
     "execution_count": 209,
     "metadata": {},
     "output_type": "execute_result"
    }
   ],
   "source": [
    "X_train.shape"
   ]
  },
  {
   "cell_type": "code",
   "execution_count": 211,
   "id": "77743746-94b0-49d0-848c-7a2833662e3b",
   "metadata": {},
   "outputs": [
    {
     "data": {
      "text/plain": [
       "(1758, 26)"
      ]
     },
     "execution_count": 211,
     "metadata": {},
     "output_type": "execute_result"
    }
   ],
   "source": [
    "X_test.shape"
   ]
  },
  {
   "cell_type": "code",
   "execution_count": 212,
   "id": "b9fd96b2-5fd3-4da5-9173-7b3caeea11e9",
   "metadata": {},
   "outputs": [
    {
     "data": {
      "text/plain": [
       "(7032, 27)"
      ]
     },
     "execution_count": 212,
     "metadata": {},
     "output_type": "execute_result"
    }
   ],
   "source": [
    "df2.shape"
   ]
  },
  {
   "cell_type": "markdown",
   "id": "1dc87f4e-7038-4c82-b0bb-2ec1b9f5d1a7",
   "metadata": {},
   "source": [
    "1.Undersampling"
   ]
  },
  {
   "cell_type": "code",
   "execution_count": 216,
   "id": "1186d90b-b31d-4440-825e-52feb3a25bb6",
   "metadata": {},
   "outputs": [],
   "source": [
    "count_class0,count_class1 = df2.Churn.value_counts()\n",
    "df_class1= df2[df2['Churn']==1]\n",
    "df_class0= df2[df2['Churn']==0]"
   ]
  },
  {
   "cell_type": "code",
   "execution_count": 217,
   "id": "cc5e2402-7708-4c13-bce3-d7ab3c270d94",
   "metadata": {},
   "outputs": [
    {
     "data": {
      "text/plain": [
       "(1869, 27)"
      ]
     },
     "execution_count": 217,
     "metadata": {},
     "output_type": "execute_result"
    }
   ],
   "source": [
    "df_class1.shape"
   ]
  },
  {
   "cell_type": "code",
   "execution_count": 218,
   "id": "27da9078-933b-4f4e-8caf-f3429417fd0e",
   "metadata": {},
   "outputs": [
    {
     "data": {
      "text/plain": [
       "(5163, 27)"
      ]
     },
     "execution_count": 218,
     "metadata": {},
     "output_type": "execute_result"
    }
   ],
   "source": [
    "df_class0.shape"
   ]
  },
  {
   "cell_type": "code",
   "execution_count": 220,
   "id": "3f72a751-dde8-4574-b95f-54df25800ad4",
   "metadata": {},
   "outputs": [
    {
     "data": {
      "text/plain": [
       "(3738, 27)"
      ]
     },
     "execution_count": 220,
     "metadata": {},
     "output_type": "execute_result"
    }
   ],
   "source": [
    "df_class0_under= df_class0.sample(count_class1)\n",
    "df_test_under = pd.concat([df_class0_under,df_class1],axis=0)\n",
    "df_test_under.shape"
   ]
  },
  {
   "cell_type": "code",
   "execution_count": 221,
   "id": "a409d37d-b17d-4e59-93f4-1f257acde4cb",
   "metadata": {},
   "outputs": [
    {
     "data": {
      "text/plain": [
       "0    1869\n",
       "1    1869\n",
       "Name: Churn, dtype: int64"
      ]
     },
     "execution_count": 221,
     "metadata": {},
     "output_type": "execute_result"
    }
   ],
   "source": [
    "df_test_under.Churn.value_counts()"
   ]
  },
  {
   "cell_type": "code",
   "execution_count": 224,
   "id": "a9a761df-7ac3-41d9-b846-3868defad6b9",
   "metadata": {},
   "outputs": [],
   "source": [
    "X=df_test_under.drop('Churn',axis=1)\n",
    "y=df_test_under['Churn']\n",
    "from sklearn.model_selection import train_test_split\n",
    "X_train,X_test,y_train,y_test = train_test_split(X,y,test_size=0.25,random_state=5,stratify=y) "
   ]
  },
  {
   "cell_type": "code",
   "execution_count": 225,
   "id": "cbd5f0e2-d7c7-4680-997a-5e9a9415d3bf",
   "metadata": {},
   "outputs": [
    {
     "data": {
      "text/plain": [
       "0    1402\n",
       "1    1401\n",
       "Name: Churn, dtype: int64"
      ]
     },
     "execution_count": 225,
     "metadata": {},
     "output_type": "execute_result"
    }
   ],
   "source": [
    "y_train.value_counts()"
   ]
  },
  {
   "cell_type": "code",
   "execution_count": 226,
   "id": "6b6265e8-6eeb-41fc-89ad-099bca2a9878",
   "metadata": {},
   "outputs": [
    {
     "name": "stdout",
     "output_type": "stream",
     "text": [
      "Epoch 1/50\n",
      "88/88 [==============================] - 1s 2ms/step - loss: 0.6194 - accuracy: 0.6750\n",
      "Epoch 2/50\n",
      "88/88 [==============================] - 0s 2ms/step - loss: 0.5411 - accuracy: 0.7389\n",
      "Epoch 3/50\n",
      "88/88 [==============================] - 0s 2ms/step - loss: 0.5195 - accuracy: 0.7478\n",
      "Epoch 4/50\n",
      "88/88 [==============================] - 0s 2ms/step - loss: 0.5111 - accuracy: 0.7528\n",
      "Epoch 5/50\n",
      "88/88 [==============================] - 0s 2ms/step - loss: 0.5071 - accuracy: 0.7563\n",
      "Epoch 6/50\n",
      "88/88 [==============================] - 0s 2ms/step - loss: 0.5039 - accuracy: 0.7549\n",
      "Epoch 7/50\n",
      "88/88 [==============================] - 0s 2ms/step - loss: 0.5021 - accuracy: 0.7560\n",
      "Epoch 8/50\n",
      "88/88 [==============================] - 0s 2ms/step - loss: 0.4983 - accuracy: 0.7610\n",
      "Epoch 9/50\n",
      "88/88 [==============================] - 0s 2ms/step - loss: 0.4964 - accuracy: 0.7656\n",
      "Epoch 10/50\n",
      "88/88 [==============================] - 0s 2ms/step - loss: 0.4947 - accuracy: 0.7617\n",
      "Epoch 11/50\n",
      "88/88 [==============================] - 0s 2ms/step - loss: 0.4932 - accuracy: 0.7606\n",
      "Epoch 12/50\n",
      "88/88 [==============================] - 0s 2ms/step - loss: 0.4911 - accuracy: 0.7642\n",
      "Epoch 13/50\n",
      "88/88 [==============================] - 0s 2ms/step - loss: 0.4902 - accuracy: 0.7638\n",
      "Epoch 14/50\n",
      "88/88 [==============================] - 0s 1ms/step - loss: 0.4877 - accuracy: 0.7660\n",
      "Epoch 15/50\n",
      "88/88 [==============================] - 0s 2ms/step - loss: 0.4873 - accuracy: 0.7653\n",
      "Epoch 16/50\n",
      "88/88 [==============================] - 0s 1ms/step - loss: 0.4857 - accuracy: 0.7674\n",
      "Epoch 17/50\n",
      "88/88 [==============================] - 0s 1ms/step - loss: 0.4853 - accuracy: 0.7681\n",
      "Epoch 18/50\n",
      "88/88 [==============================] - 0s 1ms/step - loss: 0.4835 - accuracy: 0.7667\n",
      "Epoch 19/50\n",
      "88/88 [==============================] - 0s 1ms/step - loss: 0.4824 - accuracy: 0.7677\n",
      "Epoch 20/50\n",
      "88/88 [==============================] - 0s 1ms/step - loss: 0.4810 - accuracy: 0.7717\n",
      "Epoch 21/50\n",
      "88/88 [==============================] - 0s 1ms/step - loss: 0.4805 - accuracy: 0.7670\n",
      "Epoch 22/50\n",
      "88/88 [==============================] - 0s 2ms/step - loss: 0.4785 - accuracy: 0.7710\n",
      "Epoch 23/50\n",
      "88/88 [==============================] - 0s 1ms/step - loss: 0.4785 - accuracy: 0.7692\n",
      "Epoch 24/50\n",
      "88/88 [==============================] - 0s 1ms/step - loss: 0.4774 - accuracy: 0.7752\n",
      "Epoch 25/50\n",
      "88/88 [==============================] - 0s 1ms/step - loss: 0.4764 - accuracy: 0.7692\n",
      "Epoch 26/50\n",
      "88/88 [==============================] - 0s 1ms/step - loss: 0.4759 - accuracy: 0.7717\n",
      "Epoch 27/50\n",
      "88/88 [==============================] - 0s 1ms/step - loss: 0.4756 - accuracy: 0.7713\n",
      "Epoch 28/50\n",
      "88/88 [==============================] - 0s 1ms/step - loss: 0.4745 - accuracy: 0.7738\n",
      "Epoch 29/50\n",
      "88/88 [==============================] - 0s 1ms/step - loss: 0.4736 - accuracy: 0.7717\n",
      "Epoch 30/50\n",
      "88/88 [==============================] - 0s 1ms/step - loss: 0.4726 - accuracy: 0.7735\n",
      "Epoch 31/50\n",
      "88/88 [==============================] - 0s 1ms/step - loss: 0.4718 - accuracy: 0.7749\n",
      "Epoch 32/50\n",
      "88/88 [==============================] - 0s 1ms/step - loss: 0.4712 - accuracy: 0.7727\n",
      "Epoch 33/50\n",
      "88/88 [==============================] - 0s 1ms/step - loss: 0.4719 - accuracy: 0.7706\n",
      "Epoch 34/50\n",
      "88/88 [==============================] - 0s 1ms/step - loss: 0.4706 - accuracy: 0.7745\n",
      "Epoch 35/50\n",
      "88/88 [==============================] - 0s 1ms/step - loss: 0.4693 - accuracy: 0.7770\n",
      "Epoch 36/50\n",
      "88/88 [==============================] - 0s 1ms/step - loss: 0.4686 - accuracy: 0.7752\n",
      "Epoch 37/50\n",
      "88/88 [==============================] - 0s 1ms/step - loss: 0.4683 - accuracy: 0.7770\n",
      "Epoch 38/50\n",
      "88/88 [==============================] - 0s 1ms/step - loss: 0.4667 - accuracy: 0.7752\n",
      "Epoch 39/50\n",
      "88/88 [==============================] - 0s 1ms/step - loss: 0.4682 - accuracy: 0.7756\n",
      "Epoch 40/50\n",
      "88/88 [==============================] - 0s 1ms/step - loss: 0.4684 - accuracy: 0.7763\n",
      "Epoch 41/50\n",
      "88/88 [==============================] - 0s 1ms/step - loss: 0.4655 - accuracy: 0.7781\n",
      "Epoch 42/50\n",
      "88/88 [==============================] - 0s 1ms/step - loss: 0.4655 - accuracy: 0.7774\n",
      "Epoch 43/50\n",
      "88/88 [==============================] - 0s 1ms/step - loss: 0.4647 - accuracy: 0.7774\n",
      "Epoch 44/50\n",
      "88/88 [==============================] - 0s 1ms/step - loss: 0.4641 - accuracy: 0.7792\n",
      "Epoch 45/50\n",
      "88/88 [==============================] - 0s 1ms/step - loss: 0.4632 - accuracy: 0.7795\n",
      "Epoch 46/50\n",
      "88/88 [==============================] - 0s 1ms/step - loss: 0.4633 - accuracy: 0.7781\n",
      "Epoch 47/50\n",
      "88/88 [==============================] - 0s 1ms/step - loss: 0.4636 - accuracy: 0.7756\n",
      "Epoch 48/50\n",
      "88/88 [==============================] - 0s 1ms/step - loss: 0.4627 - accuracy: 0.7788\n",
      "Epoch 49/50\n",
      "88/88 [==============================] - 0s 2ms/step - loss: 0.4621 - accuracy: 0.7802\n",
      "Epoch 50/50\n",
      "88/88 [==============================] - 0s 1ms/step - loss: 0.4622 - accuracy: 0.7760\n",
      "30/30 [==============================] - 0s 1ms/step - loss: 0.4540 - accuracy: 0.7818\n",
      "Model_Evaluation:\n",
      "  [0.45403194427490234, 0.7818182110786438]\n",
      "Classification_report:\n",
      "               precision    recall  f1-score   support\n",
      "\n",
      "           0       0.80      0.76      0.78       467\n",
      "           1       0.77      0.81      0.79       468\n",
      "\n",
      "    accuracy                           0.78       935\n",
      "   macro avg       0.78      0.78      0.78       935\n",
      "weighted avg       0.78      0.78      0.78       935\n",
      "\n"
     ]
    }
   ],
   "source": [
    "y_pred = ANN(X_train,y_train,X_test,y_test,'binary_crossentropy',-1)"
   ]
  },
  {
   "cell_type": "markdown",
   "id": "0471e6e4-0a08-4238-aca3-e6a8a2c6804e",
   "metadata": {},
   "source": [
    "f1 score for class 1 has improved when undersampled"
   ]
  },
  {
   "cell_type": "markdown",
   "id": "44b9fbe0-220a-4ea6-9d3b-2b044ca5d4cf",
   "metadata": {},
   "source": [
    "2.Oversampling"
   ]
  },
  {
   "cell_type": "code",
   "execution_count": 228,
   "id": "912c743e-2a48-4676-82ee-28f048bd2e29",
   "metadata": {},
   "outputs": [
    {
     "data": {
      "text/plain": [
       "((1869, 27), (5163, 27))"
      ]
     },
     "execution_count": 228,
     "metadata": {},
     "output_type": "execute_result"
    }
   ],
   "source": [
    "df_class1.shape,df_class0.shape"
   ]
  },
  {
   "cell_type": "code",
   "execution_count": 229,
   "id": "6d92686b-03c0-48b9-9902-83d836519677",
   "metadata": {},
   "outputs": [
    {
     "data": {
      "text/plain": [
       "(5163, 1869)"
      ]
     },
     "execution_count": 229,
     "metadata": {},
     "output_type": "execute_result"
    }
   ],
   "source": [
    "count_class0,count_class1"
   ]
  },
  {
   "cell_type": "code",
   "execution_count": 232,
   "id": "c6babc41-549d-4bb5-8be9-dfbb9af2d9d2",
   "metadata": {},
   "outputs": [
    {
     "data": {
      "text/plain": [
       "(5163, 27)"
      ]
     },
     "execution_count": 232,
     "metadata": {},
     "output_type": "execute_result"
    }
   ],
   "source": [
    "df_class1.sample(count_class0,replace=True).shape"
   ]
  },
  {
   "cell_type": "code",
   "execution_count": 233,
   "id": "bba567ef-110d-4039-afbc-25849c64f64e",
   "metadata": {},
   "outputs": [
    {
     "data": {
      "text/plain": [
       "(10326, 27)"
      ]
     },
     "execution_count": 233,
     "metadata": {},
     "output_type": "execute_result"
    }
   ],
   "source": [
    "df_class1_over = df_class1.sample(count_class0,replace=True)\n",
    "df_test_over = pd.concat([df_class1_over,df_class0],axis=0)\n",
    "df_test_over.shape"
   ]
  },
  {
   "cell_type": "code",
   "execution_count": 234,
   "id": "cb7016f5-fa85-4616-ab0f-ae428156c557",
   "metadata": {},
   "outputs": [
    {
     "data": {
      "text/plain": [
       "1    5163\n",
       "0    5163\n",
       "Name: Churn, dtype: int64"
      ]
     },
     "execution_count": 234,
     "metadata": {},
     "output_type": "execute_result"
    }
   ],
   "source": [
    "df_test_over.Churn.value_counts()"
   ]
  },
  {
   "cell_type": "code",
   "execution_count": 236,
   "id": "921497e4-6fca-45d4-bf27-6334f7743a69",
   "metadata": {},
   "outputs": [
    {
     "name": "stdout",
     "output_type": "stream",
     "text": [
      "Epoch 1/50\n",
      "242/242 [==============================] - 1s 1ms/step - loss: 0.5890 - accuracy: 0.6915\n",
      "Epoch 2/50\n",
      "242/242 [==============================] - 0s 1ms/step - loss: 0.4968 - accuracy: 0.7611\n",
      "Epoch 3/50\n",
      "242/242 [==============================] - 0s 1ms/step - loss: 0.4836 - accuracy: 0.7689\n",
      "Epoch 4/50\n",
      "242/242 [==============================] - 0s 1ms/step - loss: 0.4784 - accuracy: 0.7670\n",
      "Epoch 5/50\n",
      "242/242 [==============================] - 0s 2ms/step - loss: 0.4750 - accuracy: 0.7716\n",
      "Epoch 6/50\n",
      "242/242 [==============================] - 0s 1ms/step - loss: 0.4728 - accuracy: 0.7729\n",
      "Epoch 7/50\n",
      "242/242 [==============================] - 0s 2ms/step - loss: 0.4715 - accuracy: 0.7708\n",
      "Epoch 8/50\n",
      "242/242 [==============================] - 0s 1ms/step - loss: 0.4681 - accuracy: 0.7708\n",
      "Epoch 9/50\n",
      "242/242 [==============================] - 0s 1ms/step - loss: 0.4659 - accuracy: 0.7740\n",
      "Epoch 10/50\n",
      "242/242 [==============================] - 0s 1ms/step - loss: 0.4636 - accuracy: 0.7753\n",
      "Epoch 11/50\n",
      "242/242 [==============================] - 0s 1ms/step - loss: 0.4614 - accuracy: 0.7747\n",
      "Epoch 12/50\n",
      "242/242 [==============================] - 0s 1ms/step - loss: 0.4602 - accuracy: 0.7782\n",
      "Epoch 13/50\n",
      "242/242 [==============================] - 0s 1ms/step - loss: 0.4581 - accuracy: 0.7779\n",
      "Epoch 14/50\n",
      "242/242 [==============================] - 0s 1ms/step - loss: 0.4563 - accuracy: 0.7788\n",
      "Epoch 15/50\n",
      "242/242 [==============================] - 0s 1ms/step - loss: 0.4555 - accuracy: 0.7815\n",
      "Epoch 16/50\n",
      "242/242 [==============================] - 0s 1ms/step - loss: 0.4542 - accuracy: 0.7814\n",
      "Epoch 17/50\n",
      "242/242 [==============================] - 0s 1ms/step - loss: 0.4520 - accuracy: 0.7833\n",
      "Epoch 18/50\n",
      "242/242 [==============================] - 0s 1ms/step - loss: 0.4505 - accuracy: 0.7858\n",
      "Epoch 19/50\n",
      "242/242 [==============================] - 0s 1ms/step - loss: 0.4496 - accuracy: 0.7851\n",
      "Epoch 20/50\n",
      "242/242 [==============================] - 0s 1ms/step - loss: 0.4490 - accuracy: 0.7855\n",
      "Epoch 21/50\n",
      "242/242 [==============================] - 0s 1ms/step - loss: 0.4463 - accuracy: 0.7863\n",
      "Epoch 22/50\n",
      "242/242 [==============================] - 0s 2ms/step - loss: 0.4454 - accuracy: 0.7867\n",
      "Epoch 23/50\n",
      "242/242 [==============================] - 0s 1ms/step - loss: 0.4447 - accuracy: 0.7885\n",
      "Epoch 24/50\n",
      "242/242 [==============================] - 0s 1ms/step - loss: 0.4434 - accuracy: 0.7911\n",
      "Epoch 25/50\n",
      "242/242 [==============================] - 0s 1ms/step - loss: 0.4425 - accuracy: 0.7884\n",
      "Epoch 26/50\n",
      "242/242 [==============================] - 0s 1ms/step - loss: 0.4407 - accuracy: 0.7880\n",
      "Epoch 27/50\n",
      "242/242 [==============================] - 0s 1ms/step - loss: 0.4404 - accuracy: 0.7891\n",
      "Epoch 28/50\n",
      "242/242 [==============================] - 0s 1ms/step - loss: 0.4394 - accuracy: 0.7908\n",
      "Epoch 29/50\n",
      "242/242 [==============================] - 0s 1ms/step - loss: 0.4388 - accuracy: 0.7885\n",
      "Epoch 30/50\n",
      "242/242 [==============================] - 0s 1ms/step - loss: 0.4375 - accuracy: 0.7918\n",
      "Epoch 31/50\n",
      "242/242 [==============================] - 0s 1ms/step - loss: 0.4368 - accuracy: 0.7916\n",
      "Epoch 32/50\n",
      "242/242 [==============================] - 0s 1ms/step - loss: 0.4361 - accuracy: 0.7898\n",
      "Epoch 33/50\n",
      "242/242 [==============================] - 0s 1ms/step - loss: 0.4350 - accuracy: 0.7942\n",
      "Epoch 34/50\n",
      "242/242 [==============================] - 0s 1ms/step - loss: 0.4353 - accuracy: 0.7922\n",
      "Epoch 35/50\n",
      "242/242 [==============================] - 0s 1ms/step - loss: 0.4345 - accuracy: 0.7939\n",
      "Epoch 36/50\n",
      "242/242 [==============================] - 0s 2ms/step - loss: 0.4352 - accuracy: 0.7956\n",
      "Epoch 37/50\n",
      "242/242 [==============================] - 0s 1ms/step - loss: 0.4341 - accuracy: 0.7912\n",
      "Epoch 38/50\n",
      "242/242 [==============================] - 0s 1ms/step - loss: 0.4328 - accuracy: 0.7951\n",
      "Epoch 39/50\n",
      "242/242 [==============================] - 0s 1ms/step - loss: 0.4323 - accuracy: 0.7947\n",
      "Epoch 40/50\n",
      "242/242 [==============================] - 0s 1ms/step - loss: 0.4323 - accuracy: 0.7961\n",
      "Epoch 41/50\n",
      "242/242 [==============================] - 0s 2ms/step - loss: 0.4308 - accuracy: 0.7940\n",
      "Epoch 42/50\n",
      "242/242 [==============================] - 0s 1ms/step - loss: 0.4309 - accuracy: 0.7938\n",
      "Epoch 43/50\n",
      "242/242 [==============================] - 0s 1ms/step - loss: 0.4307 - accuracy: 0.7917\n",
      "Epoch 44/50\n",
      "242/242 [==============================] - 0s 1ms/step - loss: 0.4293 - accuracy: 0.7940\n",
      "Epoch 45/50\n",
      "242/242 [==============================] - 0s 1ms/step - loss: 0.4289 - accuracy: 0.7960\n",
      "Epoch 46/50\n",
      "242/242 [==============================] - 0s 2ms/step - loss: 0.4291 - accuracy: 0.7947\n",
      "Epoch 47/50\n",
      "242/242 [==============================] - 0s 1ms/step - loss: 0.4272 - accuracy: 0.7966\n",
      "Epoch 48/50\n",
      "242/242 [==============================] - 0s 1ms/step - loss: 0.4274 - accuracy: 0.7938\n",
      "Epoch 49/50\n",
      "242/242 [==============================] - 0s 2ms/step - loss: 0.4276 - accuracy: 0.7938\n",
      "Epoch 50/50\n",
      "242/242 [==============================] - 0s 1ms/step - loss: 0.4269 - accuracy: 0.7960\n",
      "81/81 [==============================] - 0s 1ms/step - loss: 0.4763 - accuracy: 0.7688\n",
      "Model_Evaluation:\n",
      "  [0.47626104950904846, 0.7687838673591614]\n",
      "Classification_report:\n",
      "               precision    recall  f1-score   support\n",
      "\n",
      "           0       0.79      0.73      0.76      1291\n",
      "           1       0.75      0.81      0.78      1291\n",
      "\n",
      "    accuracy                           0.77      2582\n",
      "   macro avg       0.77      0.77      0.77      2582\n",
      "weighted avg       0.77      0.77      0.77      2582\n",
      "\n"
     ]
    }
   ],
   "source": [
    "X=df_test_over.drop('Churn',axis=1)\n",
    "y=df_test_over['Churn']\n",
    "from sklearn.model_selection import train_test_split\n",
    "X_train,X_test,y_train,y_test = train_test_split(X,y,test_size=0.25,random_state=5,stratify=y) \n",
    "y_pred = ANN(X_train,y_train,X_test,y_test,'binary_crossentropy',-1)"
   ]
  },
  {
   "cell_type": "markdown",
   "id": "c4b8a90b-5b61-4f6f-a734-f7306c8f1981",
   "metadata": {},
   "source": [
    "3. SMOTE\n",
    "\n",
    "Creates new samples from current samples using KNN while oversampling just duplicates the current samples"
   ]
  },
  {
   "cell_type": "code",
   "execution_count": 237,
   "id": "732d8273-40f2-4c4c-b058-86e0f097f345",
   "metadata": {},
   "outputs": [],
   "source": [
    "X=df2.drop('Churn',axis=1)\n",
    "y=df2.Churn"
   ]
  },
  {
   "cell_type": "code",
   "execution_count": 238,
   "id": "448e42f3-d9ac-42b5-a74f-6da36f8ac09d",
   "metadata": {},
   "outputs": [
    {
     "data": {
      "text/plain": [
       "0    5163\n",
       "1    1869\n",
       "Name: Churn, dtype: int64"
      ]
     },
     "execution_count": 238,
     "metadata": {},
     "output_type": "execute_result"
    }
   ],
   "source": [
    "y.value_counts()"
   ]
  },
  {
   "cell_type": "code",
   "execution_count": 252,
   "id": "4123bbc9-2fbd-40ce-a19c-fd422ac2c271",
   "metadata": {},
   "outputs": [
    {
     "ename": "ImportError",
     "evalue": "cannot import name '_check_X' from 'imblearn.utils._validation' (C:\\Users\\saras\\anaconda3\\lib\\site-packages\\imblearn\\utils\\_validation.py)",
     "output_type": "error",
     "traceback": [
      "\u001b[1;31m---------------------------------------------------------------------------\u001b[0m",
      "\u001b[1;31mImportError\u001b[0m                               Traceback (most recent call last)",
      "Input \u001b[1;32mIn [252]\u001b[0m, in \u001b[0;36m<cell line: 1>\u001b[1;34m()\u001b[0m\n\u001b[1;32m----> 1\u001b[0m \u001b[38;5;28;01mfrom\u001b[39;00m \u001b[38;5;21;01mimblearn\u001b[39;00m\u001b[38;5;21;01m.\u001b[39;00m\u001b[38;5;21;01mover_sampling\u001b[39;00m \u001b[38;5;28;01mimport\u001b[39;00m SMOTE\n",
      "File \u001b[1;32m~\\anaconda3\\lib\\site-packages\\imblearn\\__init__.py:52\u001b[0m, in \u001b[0;36m<module>\u001b[1;34m\u001b[0m\n\u001b[0;32m     48\u001b[0m     sys\u001b[38;5;241m.\u001b[39mstderr\u001b[38;5;241m.\u001b[39mwrite(\u001b[38;5;124m\"\u001b[39m\u001b[38;5;124mPartial import of imblearn during the build process.\u001b[39m\u001b[38;5;130;01m\\n\u001b[39;00m\u001b[38;5;124m\"\u001b[39m)\n\u001b[0;32m     49\u001b[0m     \u001b[38;5;66;03m# We are not importing the rest of scikit-learn during the build\u001b[39;00m\n\u001b[0;32m     50\u001b[0m     \u001b[38;5;66;03m# process, as it may not be compiled yet\u001b[39;00m\n\u001b[0;32m     51\u001b[0m \u001b[38;5;28;01melse\u001b[39;00m:\n\u001b[1;32m---> 52\u001b[0m     \u001b[38;5;28;01mfrom\u001b[39;00m \u001b[38;5;21;01m.\u001b[39;00m \u001b[38;5;28;01mimport\u001b[39;00m (\n\u001b[0;32m     53\u001b[0m         combine,\n\u001b[0;32m     54\u001b[0m         ensemble,\n\u001b[0;32m     55\u001b[0m         exceptions,\n\u001b[0;32m     56\u001b[0m         metrics,\n\u001b[0;32m     57\u001b[0m         over_sampling,\n\u001b[0;32m     58\u001b[0m         pipeline,\n\u001b[0;32m     59\u001b[0m         tensorflow,\n\u001b[0;32m     60\u001b[0m         under_sampling,\n\u001b[0;32m     61\u001b[0m         utils,\n\u001b[0;32m     62\u001b[0m     )\n\u001b[0;32m     63\u001b[0m     \u001b[38;5;28;01mfrom\u001b[39;00m \u001b[38;5;21;01m.\u001b[39;00m\u001b[38;5;21;01m_version\u001b[39;00m \u001b[38;5;28;01mimport\u001b[39;00m __version__\n\u001b[0;32m     64\u001b[0m     \u001b[38;5;28;01mfrom\u001b[39;00m \u001b[38;5;21;01m.\u001b[39;00m\u001b[38;5;21;01mbase\u001b[39;00m \u001b[38;5;28;01mimport\u001b[39;00m FunctionSampler\n",
      "File \u001b[1;32m~\\anaconda3\\lib\\site-packages\\imblearn\\combine\\__init__.py:5\u001b[0m, in \u001b[0;36m<module>\u001b[1;34m\u001b[0m\n\u001b[0;32m      1\u001b[0m \u001b[38;5;124;03m\"\"\"The :mod:`imblearn.combine` provides methods which combine\u001b[39;00m\n\u001b[0;32m      2\u001b[0m \u001b[38;5;124;03mover-sampling and under-sampling.\u001b[39;00m\n\u001b[0;32m      3\u001b[0m \u001b[38;5;124;03m\"\"\"\u001b[39;00m\n\u001b[1;32m----> 5\u001b[0m \u001b[38;5;28;01mfrom\u001b[39;00m \u001b[38;5;21;01m.\u001b[39;00m\u001b[38;5;21;01m_smote_enn\u001b[39;00m \u001b[38;5;28;01mimport\u001b[39;00m SMOTEENN\n\u001b[0;32m      6\u001b[0m \u001b[38;5;28;01mfrom\u001b[39;00m \u001b[38;5;21;01m.\u001b[39;00m\u001b[38;5;21;01m_smote_tomek\u001b[39;00m \u001b[38;5;28;01mimport\u001b[39;00m SMOTETomek\n\u001b[0;32m      8\u001b[0m __all__ \u001b[38;5;241m=\u001b[39m [\u001b[38;5;124m\"\u001b[39m\u001b[38;5;124mSMOTEENN\u001b[39m\u001b[38;5;124m\"\u001b[39m, \u001b[38;5;124m\"\u001b[39m\u001b[38;5;124mSMOTETomek\u001b[39m\u001b[38;5;124m\"\u001b[39m]\n",
      "File \u001b[1;32m~\\anaconda3\\lib\\site-packages\\imblearn\\combine\\_smote_enn.py:13\u001b[0m, in \u001b[0;36m<module>\u001b[1;34m\u001b[0m\n\u001b[0;32m     10\u001b[0m \u001b[38;5;28;01mfrom\u001b[39;00m \u001b[38;5;21;01msklearn\u001b[39;00m\u001b[38;5;21;01m.\u001b[39;00m\u001b[38;5;21;01mutils\u001b[39;00m \u001b[38;5;28;01mimport\u001b[39;00m check_X_y\n\u001b[0;32m     12\u001b[0m \u001b[38;5;28;01mfrom\u001b[39;00m \u001b[38;5;21;01m.\u001b[39;00m\u001b[38;5;21;01m.\u001b[39;00m\u001b[38;5;21;01mbase\u001b[39;00m \u001b[38;5;28;01mimport\u001b[39;00m BaseSampler\n\u001b[1;32m---> 13\u001b[0m \u001b[38;5;28;01mfrom\u001b[39;00m \u001b[38;5;21;01m.\u001b[39;00m\u001b[38;5;21;01m.\u001b[39;00m\u001b[38;5;21;01mover_sampling\u001b[39;00m \u001b[38;5;28;01mimport\u001b[39;00m SMOTE\n\u001b[0;32m     14\u001b[0m \u001b[38;5;28;01mfrom\u001b[39;00m \u001b[38;5;21;01m.\u001b[39;00m\u001b[38;5;21;01m.\u001b[39;00m\u001b[38;5;21;01mover_sampling\u001b[39;00m\u001b[38;5;21;01m.\u001b[39;00m\u001b[38;5;21;01mbase\u001b[39;00m \u001b[38;5;28;01mimport\u001b[39;00m BaseOverSampler\n\u001b[0;32m     15\u001b[0m \u001b[38;5;28;01mfrom\u001b[39;00m \u001b[38;5;21;01m.\u001b[39;00m\u001b[38;5;21;01m.\u001b[39;00m\u001b[38;5;21;01munder_sampling\u001b[39;00m \u001b[38;5;28;01mimport\u001b[39;00m EditedNearestNeighbours\n",
      "File \u001b[1;32m~\\anaconda3\\lib\\site-packages\\imblearn\\over_sampling\\__init__.py:7\u001b[0m, in \u001b[0;36m<module>\u001b[1;34m\u001b[0m\n\u001b[0;32m      1\u001b[0m \u001b[38;5;124;03m\"\"\"\u001b[39;00m\n\u001b[0;32m      2\u001b[0m \u001b[38;5;124;03mThe :mod:`imblearn.over_sampling` provides a set of method to\u001b[39;00m\n\u001b[0;32m      3\u001b[0m \u001b[38;5;124;03mperform over-sampling.\u001b[39;00m\n\u001b[0;32m      4\u001b[0m \u001b[38;5;124;03m\"\"\"\u001b[39;00m\n\u001b[0;32m      6\u001b[0m \u001b[38;5;28;01mfrom\u001b[39;00m \u001b[38;5;21;01m.\u001b[39;00m\u001b[38;5;21;01m_adasyn\u001b[39;00m \u001b[38;5;28;01mimport\u001b[39;00m ADASYN\n\u001b[1;32m----> 7\u001b[0m \u001b[38;5;28;01mfrom\u001b[39;00m \u001b[38;5;21;01m.\u001b[39;00m\u001b[38;5;21;01m_random_over_sampler\u001b[39;00m \u001b[38;5;28;01mimport\u001b[39;00m RandomOverSampler\n\u001b[0;32m      8\u001b[0m \u001b[38;5;28;01mfrom\u001b[39;00m \u001b[38;5;21;01m.\u001b[39;00m\u001b[38;5;21;01m_smote\u001b[39;00m \u001b[38;5;28;01mimport\u001b[39;00m SMOTE, SMOTEN, SMOTENC, SVMSMOTE, BorderlineSMOTE, KMeansSMOTE\n\u001b[0;32m     10\u001b[0m __all__ \u001b[38;5;241m=\u001b[39m [\n\u001b[0;32m     11\u001b[0m     \u001b[38;5;124m\"\u001b[39m\u001b[38;5;124mADASYN\u001b[39m\u001b[38;5;124m\"\u001b[39m,\n\u001b[0;32m     12\u001b[0m     \u001b[38;5;124m\"\u001b[39m\u001b[38;5;124mRandomOverSampler\u001b[39m\u001b[38;5;124m\"\u001b[39m,\n\u001b[1;32m   (...)\u001b[0m\n\u001b[0;32m     18\u001b[0m     \u001b[38;5;124m\"\u001b[39m\u001b[38;5;124mSMOTEN\u001b[39m\u001b[38;5;124m\"\u001b[39m,\n\u001b[0;32m     19\u001b[0m ]\n",
      "File \u001b[1;32m~\\anaconda3\\lib\\site-packages\\imblearn\\over_sampling\\_random_over_sampler.py:18\u001b[0m, in \u001b[0;36m<module>\u001b[1;34m\u001b[0m\n\u001b[0;32m     16\u001b[0m \u001b[38;5;28;01mfrom\u001b[39;00m \u001b[38;5;21;01m.\u001b[39;00m\u001b[38;5;21;01m.\u001b[39;00m\u001b[38;5;21;01mutils\u001b[39;00m\u001b[38;5;21;01m.\u001b[39;00m\u001b[38;5;21;01m_docstring\u001b[39;00m \u001b[38;5;28;01mimport\u001b[39;00m _random_state_docstring\n\u001b[0;32m     17\u001b[0m \u001b[38;5;28;01mfrom\u001b[39;00m \u001b[38;5;21;01m.\u001b[39;00m\u001b[38;5;21;01m.\u001b[39;00m\u001b[38;5;21;01mutils\u001b[39;00m\u001b[38;5;21;01m.\u001b[39;00m\u001b[38;5;21;01m_param_validation\u001b[39;00m \u001b[38;5;28;01mimport\u001b[39;00m Interval\n\u001b[1;32m---> 18\u001b[0m \u001b[38;5;28;01mfrom\u001b[39;00m \u001b[38;5;21;01m.\u001b[39;00m\u001b[38;5;21;01m.\u001b[39;00m\u001b[38;5;21;01mutils\u001b[39;00m\u001b[38;5;21;01m.\u001b[39;00m\u001b[38;5;21;01m_validation\u001b[39;00m \u001b[38;5;28;01mimport\u001b[39;00m _check_X\n\u001b[0;32m     19\u001b[0m \u001b[38;5;28;01mfrom\u001b[39;00m \u001b[38;5;21;01m.\u001b[39;00m\u001b[38;5;21;01mbase\u001b[39;00m \u001b[38;5;28;01mimport\u001b[39;00m BaseOverSampler\n\u001b[0;32m     22\u001b[0m \u001b[38;5;129m@Substitution\u001b[39m(\n\u001b[0;32m     23\u001b[0m     sampling_strategy\u001b[38;5;241m=\u001b[39mBaseOverSampler\u001b[38;5;241m.\u001b[39m_sampling_strategy_docstring,\n\u001b[0;32m     24\u001b[0m     random_state\u001b[38;5;241m=\u001b[39m_random_state_docstring,\n\u001b[0;32m     25\u001b[0m )\n\u001b[0;32m     26\u001b[0m \u001b[38;5;28;01mclass\u001b[39;00m \u001b[38;5;21;01mRandomOverSampler\u001b[39;00m(BaseOverSampler):\n",
      "\u001b[1;31mImportError\u001b[0m: cannot import name '_check_X' from 'imblearn.utils._validation' (C:\\Users\\saras\\anaconda3\\lib\\site-packages\\imblearn\\utils\\_validation.py)"
     ]
    }
   ],
   "source": [
    "from imblearn.over_sampling import SMOTE"
   ]
  },
  {
   "cell_type": "code",
   "execution_count": 253,
   "id": "58983e36-806a-40bc-beb6-af3645ee306a",
   "metadata": {},
   "outputs": [
    {
     "ename": "ImportError",
     "evalue": "cannot import name '_check_X' from 'imblearn.utils._validation' (C:\\Users\\saras\\anaconda3\\lib\\site-packages\\imblearn\\utils\\_validation.py)",
     "output_type": "error",
     "traceback": [
      "\u001b[1;31m---------------------------------------------------------------------------\u001b[0m",
      "\u001b[1;31mImportError\u001b[0m                               Traceback (most recent call last)",
      "Input \u001b[1;32mIn [253]\u001b[0m, in \u001b[0;36m<cell line: 1>\u001b[1;34m()\u001b[0m\n\u001b[1;32m----> 1\u001b[0m \u001b[38;5;28;01mfrom\u001b[39;00m \u001b[38;5;21;01mimblearn\u001b[39;00m\u001b[38;5;21;01m.\u001b[39;00m\u001b[38;5;21;01mover_sampling\u001b[39;00m \u001b[38;5;28;01mimport\u001b[39;00m SMOTE\n\u001b[0;32m      2\u001b[0m smote\u001b[38;5;241m=\u001b[39mSMOTE(sampling_strategy \u001b[38;5;241m=\u001b[39m \u001b[38;5;124m'\u001b[39m\u001b[38;5;124mminority\u001b[39m\u001b[38;5;124m'\u001b[39m)\n\u001b[0;32m      3\u001b[0m X_sm,y_sm \u001b[38;5;241m=\u001b[39m smote\u001b[38;5;241m.\u001b[39mfit_sample(X,y)\n",
      "File \u001b[1;32m~\\anaconda3\\lib\\site-packages\\imblearn\\__init__.py:52\u001b[0m, in \u001b[0;36m<module>\u001b[1;34m\u001b[0m\n\u001b[0;32m     48\u001b[0m     sys\u001b[38;5;241m.\u001b[39mstderr\u001b[38;5;241m.\u001b[39mwrite(\u001b[38;5;124m\"\u001b[39m\u001b[38;5;124mPartial import of imblearn during the build process.\u001b[39m\u001b[38;5;130;01m\\n\u001b[39;00m\u001b[38;5;124m\"\u001b[39m)\n\u001b[0;32m     49\u001b[0m     \u001b[38;5;66;03m# We are not importing the rest of scikit-learn during the build\u001b[39;00m\n\u001b[0;32m     50\u001b[0m     \u001b[38;5;66;03m# process, as it may not be compiled yet\u001b[39;00m\n\u001b[0;32m     51\u001b[0m \u001b[38;5;28;01melse\u001b[39;00m:\n\u001b[1;32m---> 52\u001b[0m     \u001b[38;5;28;01mfrom\u001b[39;00m \u001b[38;5;21;01m.\u001b[39;00m \u001b[38;5;28;01mimport\u001b[39;00m (\n\u001b[0;32m     53\u001b[0m         combine,\n\u001b[0;32m     54\u001b[0m         ensemble,\n\u001b[0;32m     55\u001b[0m         exceptions,\n\u001b[0;32m     56\u001b[0m         metrics,\n\u001b[0;32m     57\u001b[0m         over_sampling,\n\u001b[0;32m     58\u001b[0m         pipeline,\n\u001b[0;32m     59\u001b[0m         tensorflow,\n\u001b[0;32m     60\u001b[0m         under_sampling,\n\u001b[0;32m     61\u001b[0m         utils,\n\u001b[0;32m     62\u001b[0m     )\n\u001b[0;32m     63\u001b[0m     \u001b[38;5;28;01mfrom\u001b[39;00m \u001b[38;5;21;01m.\u001b[39;00m\u001b[38;5;21;01m_version\u001b[39;00m \u001b[38;5;28;01mimport\u001b[39;00m __version__\n\u001b[0;32m     64\u001b[0m     \u001b[38;5;28;01mfrom\u001b[39;00m \u001b[38;5;21;01m.\u001b[39;00m\u001b[38;5;21;01mbase\u001b[39;00m \u001b[38;5;28;01mimport\u001b[39;00m FunctionSampler\n",
      "File \u001b[1;32m~\\anaconda3\\lib\\site-packages\\imblearn\\combine\\__init__.py:5\u001b[0m, in \u001b[0;36m<module>\u001b[1;34m\u001b[0m\n\u001b[0;32m      1\u001b[0m \u001b[38;5;124;03m\"\"\"The :mod:`imblearn.combine` provides methods which combine\u001b[39;00m\n\u001b[0;32m      2\u001b[0m \u001b[38;5;124;03mover-sampling and under-sampling.\u001b[39;00m\n\u001b[0;32m      3\u001b[0m \u001b[38;5;124;03m\"\"\"\u001b[39;00m\n\u001b[1;32m----> 5\u001b[0m \u001b[38;5;28;01mfrom\u001b[39;00m \u001b[38;5;21;01m.\u001b[39;00m\u001b[38;5;21;01m_smote_enn\u001b[39;00m \u001b[38;5;28;01mimport\u001b[39;00m SMOTEENN\n\u001b[0;32m      6\u001b[0m \u001b[38;5;28;01mfrom\u001b[39;00m \u001b[38;5;21;01m.\u001b[39;00m\u001b[38;5;21;01m_smote_tomek\u001b[39;00m \u001b[38;5;28;01mimport\u001b[39;00m SMOTETomek\n\u001b[0;32m      8\u001b[0m __all__ \u001b[38;5;241m=\u001b[39m [\u001b[38;5;124m\"\u001b[39m\u001b[38;5;124mSMOTEENN\u001b[39m\u001b[38;5;124m\"\u001b[39m, \u001b[38;5;124m\"\u001b[39m\u001b[38;5;124mSMOTETomek\u001b[39m\u001b[38;5;124m\"\u001b[39m]\n",
      "File \u001b[1;32m~\\anaconda3\\lib\\site-packages\\imblearn\\combine\\_smote_enn.py:13\u001b[0m, in \u001b[0;36m<module>\u001b[1;34m\u001b[0m\n\u001b[0;32m     10\u001b[0m \u001b[38;5;28;01mfrom\u001b[39;00m \u001b[38;5;21;01msklearn\u001b[39;00m\u001b[38;5;21;01m.\u001b[39;00m\u001b[38;5;21;01mutils\u001b[39;00m \u001b[38;5;28;01mimport\u001b[39;00m check_X_y\n\u001b[0;32m     12\u001b[0m \u001b[38;5;28;01mfrom\u001b[39;00m \u001b[38;5;21;01m.\u001b[39;00m\u001b[38;5;21;01m.\u001b[39;00m\u001b[38;5;21;01mbase\u001b[39;00m \u001b[38;5;28;01mimport\u001b[39;00m BaseSampler\n\u001b[1;32m---> 13\u001b[0m \u001b[38;5;28;01mfrom\u001b[39;00m \u001b[38;5;21;01m.\u001b[39;00m\u001b[38;5;21;01m.\u001b[39;00m\u001b[38;5;21;01mover_sampling\u001b[39;00m \u001b[38;5;28;01mimport\u001b[39;00m SMOTE\n\u001b[0;32m     14\u001b[0m \u001b[38;5;28;01mfrom\u001b[39;00m \u001b[38;5;21;01m.\u001b[39;00m\u001b[38;5;21;01m.\u001b[39;00m\u001b[38;5;21;01mover_sampling\u001b[39;00m\u001b[38;5;21;01m.\u001b[39;00m\u001b[38;5;21;01mbase\u001b[39;00m \u001b[38;5;28;01mimport\u001b[39;00m BaseOverSampler\n\u001b[0;32m     15\u001b[0m \u001b[38;5;28;01mfrom\u001b[39;00m \u001b[38;5;21;01m.\u001b[39;00m\u001b[38;5;21;01m.\u001b[39;00m\u001b[38;5;21;01munder_sampling\u001b[39;00m \u001b[38;5;28;01mimport\u001b[39;00m EditedNearestNeighbours\n",
      "File \u001b[1;32m~\\anaconda3\\lib\\site-packages\\imblearn\\over_sampling\\__init__.py:7\u001b[0m, in \u001b[0;36m<module>\u001b[1;34m\u001b[0m\n\u001b[0;32m      1\u001b[0m \u001b[38;5;124;03m\"\"\"\u001b[39;00m\n\u001b[0;32m      2\u001b[0m \u001b[38;5;124;03mThe :mod:`imblearn.over_sampling` provides a set of method to\u001b[39;00m\n\u001b[0;32m      3\u001b[0m \u001b[38;5;124;03mperform over-sampling.\u001b[39;00m\n\u001b[0;32m      4\u001b[0m \u001b[38;5;124;03m\"\"\"\u001b[39;00m\n\u001b[0;32m      6\u001b[0m \u001b[38;5;28;01mfrom\u001b[39;00m \u001b[38;5;21;01m.\u001b[39;00m\u001b[38;5;21;01m_adasyn\u001b[39;00m \u001b[38;5;28;01mimport\u001b[39;00m ADASYN\n\u001b[1;32m----> 7\u001b[0m \u001b[38;5;28;01mfrom\u001b[39;00m \u001b[38;5;21;01m.\u001b[39;00m\u001b[38;5;21;01m_random_over_sampler\u001b[39;00m \u001b[38;5;28;01mimport\u001b[39;00m RandomOverSampler\n\u001b[0;32m      8\u001b[0m \u001b[38;5;28;01mfrom\u001b[39;00m \u001b[38;5;21;01m.\u001b[39;00m\u001b[38;5;21;01m_smote\u001b[39;00m \u001b[38;5;28;01mimport\u001b[39;00m SMOTE, SMOTEN, SMOTENC, SVMSMOTE, BorderlineSMOTE, KMeansSMOTE\n\u001b[0;32m     10\u001b[0m __all__ \u001b[38;5;241m=\u001b[39m [\n\u001b[0;32m     11\u001b[0m     \u001b[38;5;124m\"\u001b[39m\u001b[38;5;124mADASYN\u001b[39m\u001b[38;5;124m\"\u001b[39m,\n\u001b[0;32m     12\u001b[0m     \u001b[38;5;124m\"\u001b[39m\u001b[38;5;124mRandomOverSampler\u001b[39m\u001b[38;5;124m\"\u001b[39m,\n\u001b[1;32m   (...)\u001b[0m\n\u001b[0;32m     18\u001b[0m     \u001b[38;5;124m\"\u001b[39m\u001b[38;5;124mSMOTEN\u001b[39m\u001b[38;5;124m\"\u001b[39m,\n\u001b[0;32m     19\u001b[0m ]\n",
      "File \u001b[1;32m~\\anaconda3\\lib\\site-packages\\imblearn\\over_sampling\\_random_over_sampler.py:18\u001b[0m, in \u001b[0;36m<module>\u001b[1;34m\u001b[0m\n\u001b[0;32m     16\u001b[0m \u001b[38;5;28;01mfrom\u001b[39;00m \u001b[38;5;21;01m.\u001b[39;00m\u001b[38;5;21;01m.\u001b[39;00m\u001b[38;5;21;01mutils\u001b[39;00m\u001b[38;5;21;01m.\u001b[39;00m\u001b[38;5;21;01m_docstring\u001b[39;00m \u001b[38;5;28;01mimport\u001b[39;00m _random_state_docstring\n\u001b[0;32m     17\u001b[0m \u001b[38;5;28;01mfrom\u001b[39;00m \u001b[38;5;21;01m.\u001b[39;00m\u001b[38;5;21;01m.\u001b[39;00m\u001b[38;5;21;01mutils\u001b[39;00m\u001b[38;5;21;01m.\u001b[39;00m\u001b[38;5;21;01m_param_validation\u001b[39;00m \u001b[38;5;28;01mimport\u001b[39;00m Interval\n\u001b[1;32m---> 18\u001b[0m \u001b[38;5;28;01mfrom\u001b[39;00m \u001b[38;5;21;01m.\u001b[39;00m\u001b[38;5;21;01m.\u001b[39;00m\u001b[38;5;21;01mutils\u001b[39;00m\u001b[38;5;21;01m.\u001b[39;00m\u001b[38;5;21;01m_validation\u001b[39;00m \u001b[38;5;28;01mimport\u001b[39;00m _check_X\n\u001b[0;32m     19\u001b[0m \u001b[38;5;28;01mfrom\u001b[39;00m \u001b[38;5;21;01m.\u001b[39;00m\u001b[38;5;21;01mbase\u001b[39;00m \u001b[38;5;28;01mimport\u001b[39;00m BaseOverSampler\n\u001b[0;32m     22\u001b[0m \u001b[38;5;129m@Substitution\u001b[39m(\n\u001b[0;32m     23\u001b[0m     sampling_strategy\u001b[38;5;241m=\u001b[39mBaseOverSampler\u001b[38;5;241m.\u001b[39m_sampling_strategy_docstring,\n\u001b[0;32m     24\u001b[0m     random_state\u001b[38;5;241m=\u001b[39m_random_state_docstring,\n\u001b[0;32m     25\u001b[0m )\n\u001b[0;32m     26\u001b[0m \u001b[38;5;28;01mclass\u001b[39;00m \u001b[38;5;21;01mRandomOverSampler\u001b[39;00m(BaseOverSampler):\n",
      "\u001b[1;31mImportError\u001b[0m: cannot import name '_check_X' from 'imblearn.utils._validation' (C:\\Users\\saras\\anaconda3\\lib\\site-packages\\imblearn\\utils\\_validation.py)"
     ]
    }
   ],
   "source": [
    "from imblearn.over_sampling import SMOTE\n",
    "smote=SMOTE(sampling_strategy = 'minority')\n",
    "X_sm,y_sm = smote.fit_sample(X,y)\n",
    "y_sm.value_counts()"
   ]
  },
  {
   "cell_type": "code",
   "execution_count": null,
   "id": "f64e9016-8ba3-4ac4-80ab-5a8834c25223",
   "metadata": {},
   "outputs": [],
   "source": []
  }
 ],
 "metadata": {
  "kernelspec": {
   "display_name": "Python 3 (ipykernel)",
   "language": "python",
   "name": "python3"
  },
  "language_info": {
   "codemirror_mode": {
    "name": "ipython",
    "version": 3
   },
   "file_extension": ".py",
   "mimetype": "text/x-python",
   "name": "python",
   "nbconvert_exporter": "python",
   "pygments_lexer": "ipython3",
   "version": "3.8.18"
  }
 },
 "nbformat": 4,
 "nbformat_minor": 5
}
