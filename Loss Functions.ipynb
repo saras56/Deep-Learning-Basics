{
 "cells": [
  {
   "cell_type": "markdown",
   "id": "ca3ea185-562f-4d59-b111-7ca0af1ab945",
   "metadata": {},
   "source": [
    "Mean Absolute Error"
   ]
  },
  {
   "cell_type": "code",
   "execution_count": 13,
   "id": "b701f24d-4137-4047-85ad-e4f54b0c4dd6",
   "metadata": {},
   "outputs": [],
   "source": [
    "import numpy as np\n",
    "y_predicted= np.array([1,1,0,0,1])\n",
    "y_true=np.array([.3,.7,1,0,.5])"
   ]
  },
  {
   "cell_type": "code",
   "execution_count": 14,
   "id": "604bcc50-c95f-4021-8362-791cfb34d1d3",
   "metadata": {},
   "outputs": [],
   "source": [
    "def mae(y_true,y_predicted):\n",
    "    total_error=0\n",
    "    for yt,yp in zip(y_true,y_predicted):\n",
    "        total_error += abs(yt-yp)\n",
    "    print(\"Total error:\",total_error)\n",
    "    mae=total_error/len(y_true)\n",
    "    print(\"MAE:\",mae)\n",
    "    \n",
    "    "
   ]
  },
  {
   "cell_type": "code",
   "execution_count": 15,
   "id": "65c2fe21-8c69-4624-8917-0f8e99d11f4b",
   "metadata": {},
   "outputs": [
    {
     "name": "stdout",
     "output_type": "stream",
     "text": [
      "Total error: 2.5\n",
      "MAE: 0.5\n"
     ]
    }
   ],
   "source": [
    "mae(y_true,y_predicted)"
   ]
  },
  {
   "cell_type": "code",
   "execution_count": 16,
   "id": "e096901e-bfaf-49d5-9c85-e946125113d9",
   "metadata": {},
   "outputs": [
    {
     "data": {
      "text/plain": [
       "0.5"
      ]
     },
     "execution_count": 16,
     "metadata": {},
     "output_type": "execute_result"
    }
   ],
   "source": [
    "np.mean(np.abs(y_true-y_predicted))"
   ]
  },
  {
   "cell_type": "code",
   "execution_count": 17,
   "id": "ed9ef880-1e81-4834-88f1-f56387db554e",
   "metadata": {},
   "outputs": [
    {
     "data": {
      "text/plain": [
       "2.5"
      ]
     },
     "execution_count": 17,
     "metadata": {},
     "output_type": "execute_result"
    }
   ],
   "source": [
    "np.sum(np.abs(y_true-y_predicted))"
   ]
  },
  {
   "cell_type": "markdown",
   "id": "7be78439-7dba-4907-822c-b6718c8dd243",
   "metadata": {},
   "source": [
    "Log Loss/Binary Cross Entropy"
   ]
  },
  {
   "cell_type": "code",
   "execution_count": 19,
   "id": "608b270a-d9c4-4da2-8ffc-4fc59d0ac8eb",
   "metadata": {},
   "outputs": [],
   "source": [
    "epsilon = 1e-15"
   ]
  },
  {
   "cell_type": "code",
   "execution_count": 23,
   "id": "ae4b78a0-1579-4891-9abc-96d5cb8e0b6d",
   "metadata": {},
   "outputs": [
    {
     "data": {
      "text/plain": [
       "[1, 1, 1e-15, 1e-15, 1]"
      ]
     },
     "execution_count": 23,
     "metadata": {},
     "output_type": "execute_result"
    }
   ],
   "source": [
    "y_predicted_new=[max(i,epsilon) for i in y_predicted]\n",
    "y_predicted_new"
   ]
  },
  {
   "cell_type": "code",
   "execution_count": 24,
   "id": "9088d31a-2a6e-47c9-bd40-7fa22fcb581e",
   "metadata": {},
   "outputs": [
    {
     "data": {
      "text/plain": [
       "[0.999999999999999, 0.999999999999999, 1e-15, 1e-15, 0.999999999999999]"
      ]
     },
     "execution_count": 24,
     "metadata": {},
     "output_type": "execute_result"
    }
   ],
   "source": [
    "y_predicted_new=[min(i,1-epsilon) for i in y_predicted_new]\n",
    "y_predicted_new #here its a python list as we have used list comprehension"
   ]
  },
  {
   "cell_type": "code",
   "execution_count": 30,
   "id": "56f13995-5ec2-4ad4-aeff-b36254454a76",
   "metadata": {},
   "outputs": [
    {
     "data": {
      "text/plain": [
       "array([-9.99200722e-16, -9.99200722e-16, -3.45387764e+01, -3.45387764e+01,\n",
       "       -9.99200722e-16])"
      ]
     },
     "execution_count": 30,
     "metadata": {},
     "output_type": "execute_result"
    }
   ],
   "source": [
    "y_predicted_new=np.array(y_predicted_new) # convert to a numpy array\n",
    "np.log(y_predicted_new)"
   ]
  },
  {
   "cell_type": "code",
   "execution_count": 35,
   "id": "1799e35e-fa46-4958-b611-c5efe57fbda8",
   "metadata": {},
   "outputs": [
    {
     "data": {
      "text/plain": [
       "17.2696280766844"
      ]
     },
     "execution_count": 35,
     "metadata": {},
     "output_type": "execute_result"
    }
   ],
   "source": [
    "-np.mean(y_true*np.log(y_predicted_new)+(1-y_true)*np.log(1-y_predicted_new))"
   ]
  },
  {
   "cell_type": "code",
   "execution_count": 36,
   "id": "29cf1ac0-7b4f-487d-b1fc-da6ba07a2895",
   "metadata": {},
   "outputs": [],
   "source": [
    "def log_loss(y_true,y_predicted):\n",
    "    epsilon = 1e-15\n",
    "    y_predicted_new=[max(i,epsilon) for i in y_predicted]\n",
    "    y_predicted_new=[min(i,1-epsilon) for i in y_predicted_new]\n",
    "    y_predicted_new=np.array(y_predicted_new)\n",
    "    return -np.mean(y_true*np.log(y_predicted_new)+(1-y_true)*np.log(1-y_predicted_new))\n",
    "    "
   ]
  },
  {
   "cell_type": "code",
   "execution_count": 37,
   "id": "3b3f7192-16bc-4c1f-8f11-093bcf58bab9",
   "metadata": {},
   "outputs": [
    {
     "data": {
      "text/plain": [
       "17.2696280766844"
      ]
     },
     "execution_count": 37,
     "metadata": {},
     "output_type": "execute_result"
    }
   ],
   "source": [
    "log_loss(y_true,y_predicted)"
   ]
  },
  {
   "cell_type": "markdown",
   "id": "286183a1-1382-438b-a7e0-8ee63beebadd",
   "metadata": {},
   "source": [
    "Mean Squared Error"
   ]
  },
  {
   "cell_type": "code",
   "execution_count": 39,
   "id": "333e8574-6a5c-4916-9d99-a3639ced8ea4",
   "metadata": {},
   "outputs": [
    {
     "data": {
      "text/plain": [
       "0.366"
      ]
     },
     "execution_count": 39,
     "metadata": {},
     "output_type": "execute_result"
    }
   ],
   "source": [
    "np.mean((y_true-y_predicted)**2)"
   ]
  },
  {
   "cell_type": "code",
   "execution_count": 40,
   "id": "7394bc3a-984c-41a0-adb8-1b092a2fda9b",
   "metadata": {},
   "outputs": [],
   "source": [
    "def mse(y_true,y_predicted):\n",
    "    total_error=0\n",
    "    for yt,yp in zip(y_true,y_predicted):\n",
    "        total_error += (yt-yp)**2\n",
    "    print(\"Total error:\",total_error)\n",
    "    mse=total_error/len(y_true)\n",
    "    print(\"MSE:\",mse)"
   ]
  },
  {
   "cell_type": "code",
   "execution_count": 41,
   "id": "e993ea2d-cca8-4f33-9ef1-8142b2749f18",
   "metadata": {},
   "outputs": [
    {
     "name": "stdout",
     "output_type": "stream",
     "text": [
      "Total error: 1.83\n",
      "MSE: 0.366\n"
     ]
    }
   ],
   "source": [
    "mse(y_true,y_predicted)"
   ]
  },
  {
   "cell_type": "code",
   "execution_count": null,
   "id": "a8085a17-8f82-416c-9817-4c88c386fd1d",
   "metadata": {},
   "outputs": [],
   "source": []
  }
 ],
 "metadata": {
  "kernelspec": {
   "display_name": "Python 3 (ipykernel)",
   "language": "python",
   "name": "python3"
  },
  "language_info": {
   "codemirror_mode": {
    "name": "ipython",
    "version": 3
   },
   "file_extension": ".py",
   "mimetype": "text/x-python",
   "name": "python",
   "nbconvert_exporter": "python",
   "pygments_lexer": "ipython3",
   "version": "3.8.18"
  }
 },
 "nbformat": 4,
 "nbformat_minor": 5
}
