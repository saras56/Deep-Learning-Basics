{
 "cells": [
  {
   "cell_type": "code",
   "execution_count": 8,
   "id": "e6e4f895-94d5-4807-b598-7f4f58279f35",
   "metadata": {},
   "outputs": [],
   "source": [
    "import tensorflow as tf\n",
    "from tensorflow import keras\n",
    "from tensorflow.keras import datasets,layers,models\n",
    "import matplotlib.pyplot as plt\n",
    "import numpy as np"
   ]
  },
  {
   "cell_type": "code",
   "execution_count": 9,
   "id": "f6498002-d0c0-4a67-ac94-ba62e33f377c",
   "metadata": {},
   "outputs": [
    {
     "data": {
      "text/plain": [
       "(50000, 32, 32, 3)"
      ]
     },
     "execution_count": 9,
     "metadata": {},
     "output_type": "execute_result"
    }
   ],
   "source": [
    "(X_train,y_train),(X_test,y_test)= datasets.cifar10.load_data()\n",
    "X_train.shape"
   ]
  },
  {
   "cell_type": "code",
   "execution_count": 10,
   "id": "3ac732de-4c2b-490e-a0d5-187d66d3d299",
   "metadata": {},
   "outputs": [
    {
     "data": {
      "text/plain": [
       "(10000, 32, 32, 3)"
      ]
     },
     "execution_count": 10,
     "metadata": {},
     "output_type": "execute_result"
    }
   ],
   "source": [
    "X_test.shape"
   ]
  },
  {
   "cell_type": "code",
   "execution_count": 11,
   "id": "758fbb7f-347a-49b0-b74a-dca93ff46f00",
   "metadata": {},
   "outputs": [
    {
     "data": {
      "text/plain": [
       "array([6, 9, 9, 4, 1], dtype=uint8)"
      ]
     },
     "execution_count": 11,
     "metadata": {},
     "output_type": "execute_result"
    }
   ],
   "source": [
    "y_train = y_train.reshape(-1,)\n",
    "y_train[:5]"
   ]
  },
  {
   "cell_type": "code",
   "execution_count": 12,
   "id": "eba86042-9a19-45bd-b7ac-c990a6bcf0c1",
   "metadata": {},
   "outputs": [
    {
     "data": {
      "text/plain": [
       "6"
      ]
     },
     "execution_count": 12,
     "metadata": {},
     "output_type": "execute_result"
    }
   ],
   "source": [
    "y_train[0]"
   ]
  },
  {
   "cell_type": "code",
   "execution_count": 37,
   "id": "4b6f1550-d184-4f2c-9e56-2b6bfaaea9b5",
   "metadata": {},
   "outputs": [],
   "source": [
    "classes=[\"airplane\",\"automobile\",\"bird\",\"cat\",\"deer\",\"dog\",\"frog\",\"horse\",\"ship\",\"truck\"]"
   ]
  },
  {
   "cell_type": "code",
   "execution_count": 14,
   "id": "aefd1e32-06ef-476f-99db-7e3b5b94ca3b",
   "metadata": {},
   "outputs": [
    {
     "data": {
      "text/plain": [
       "'frog'"
      ]
     },
     "execution_count": 14,
     "metadata": {},
     "output_type": "execute_result"
    }
   ],
   "source": [
    "classes[6]"
   ]
  },
  {
   "cell_type": "code",
   "execution_count": 15,
   "id": "5e7902ec-45f3-400b-9a55-17b2764f27f4",
   "metadata": {},
   "outputs": [],
   "source": [
    "def plt_sample(X,y,index):\n",
    "    plt.figure(figsize=(15,2))\n",
    "    plt.imshow(X[index])\n",
    "    plt.xlabel(classes[y[index]])"
   ]
  },
  {
   "cell_type": "code",
   "execution_count": 16,
   "id": "b9c1c1ca-875d-428d-b3f5-c69ad56557a3",
   "metadata": {},
   "outputs": [
    {
     "data": {
      "image/png": "[encoded data removed]",
      "text/plain": [
       "<Figure size 1500x200 with 1 Axes>"
      ]
     },
     "metadata": {},
     "output_type": "display_data"
    }
   ],
   "source": [
    "plt_sample(X_train,y_train,7)"
   ]
  },
  {
   "cell_type": "code",
   "execution_count": 17,
   "id": "0b6d9a76-ffd8-45c2-9620-c53853e73b26",
   "metadata": {},
   "outputs": [],
   "source": [
    "X_train_scaled=X_train/255\n",
    "X_test_scaled=X_test/255"
   ]
  },
  {
   "cell_type": "code",
   "execution_count": 18,
   "id": "35b14393-6ec6-4120-8e34-e554e886f78d",
   "metadata": {},
   "outputs": [
    {
     "name": "stdout",
     "output_type": "stream",
     "text": [
      "Epoch 1/5\n",
      "1563/1563 [==============================] - 125s 79ms/step - loss: 1.8106 - accuracy: 0.3571\n",
      "Epoch 2/5\n",
      "1563/1563 [==============================] - 106s 67ms/step - loss: 1.6195 - accuracy: 0.4283\n",
      "Epoch 3/5\n",
      "1563/1563 [==============================] - 123s 79ms/step - loss: 1.5390 - accuracy: 0.4575\n",
      "Epoch 4/5\n",
      "1563/1563 [==============================] - 121s 78ms/step - loss: 1.4810 - accuracy: 0.4784\n",
      "Epoch 5/5\n",
      "1563/1563 [==============================] - 126s 81ms/step - loss: 1.4312 - accuracy: 0.4962\n"
     ]
    },
    {
     "data": {
      "text/plain": [
       "<keras.callbacks.History at 0x18bdbf7deb0>"
      ]
     },
     "execution_count": 18,
     "metadata": {},
     "output_type": "execute_result"
    }
   ],
   "source": [
    "ann = keras.Sequential([\n",
    "    keras.layers.Flatten(input_shape=(32,32,3)),\n",
    "    keras.layers.Dense(3000,activation='relu'),\n",
    "    keras.layers.Dense(1000,activation='relu'),\n",
    "    keras.layers.Dense(10,activation='sigmoid')\n",
    "])\n",
    "\n",
    "ann.compile(optimizer='SGD', loss='sparse_categorical_crossentropy', metrics= ['accuracy'])\n",
    "ann.fit(X_train_scaled,y_train,epochs=5)"
   ]
  },
  {
   "cell_type": "code",
   "execution_count": 40,
   "id": "e07d8f68-d054-4f3c-a403-501537da977b",
   "metadata": {},
   "outputs": [
    {
     "name": "stdout",
     "output_type": "stream",
     "text": [
      "313/313 [==============================] - 7s 23ms/step - loss: 1.4849 - accuracy: 0.4691\n"
     ]
    },
    {
     "data": {
      "text/plain": [
       "[1.4849294424057007, 0.4690999984741211]"
      ]
     },
     "execution_count": 40,
     "metadata": {},
     "output_type": "execute_result"
    }
   ],
   "source": [
    "ann.evaluate(X_test_scaled,y_test)"
   ]
  },
  {
   "cell_type": "code",
   "execution_count": 41,
   "id": "77f6cf54-010f-411f-afdd-ff2b643e7c40",
   "metadata": {},
   "outputs": [],
   "source": [
    "y_pred = ann.predict(X_test_scaled)"
   ]
  },
  {
   "cell_type": "code",
   "execution_count": 43,
   "id": "0cdb20f3-b8a5-4f77-9bce-f1a62867f223",
   "metadata": {},
   "outputs": [
    {
     "data": {
      "text/plain": [
       "array([0.6903807 , 0.9411328 , 0.36371642, 0.29960746, 0.19576246,\n",
       "       0.15147862, 0.0157136 , 0.5003    , 0.7290826 , 0.9934696 ],\n",
       "      dtype=float32)"
      ]
     },
     "execution_count": 43,
     "metadata": {},
     "output_type": "execute_result"
    }
   ],
   "source": [
    "y_pred[50]"
   ]
  },
  {
   "cell_type": "code",
   "execution_count": 48,
   "id": "eeefa202-28d5-4e91-b136-9a014b955121",
   "metadata": {},
   "outputs": [
    {
     "data": {
      "text/plain": [
       "9"
      ]
     },
     "execution_count": 48,
     "metadata": {},
     "output_type": "execute_result"
    }
   ],
   "source": [
    "np.argmax(y_pred[50])"
   ]
  },
  {
   "cell_type": "code",
   "execution_count": 45,
   "id": "22a7929a-6a31-4a1a-89a0-b7ada5229c03",
   "metadata": {},
   "outputs": [
    {
     "data": {
      "text/plain": [
       "9"
      ]
     },
     "execution_count": 45,
     "metadata": {},
     "output_type": "execute_result"
    }
   ],
   "source": [
    "y_pred_classes = [np.argmax(i) for i in y_pred]\n",
    "y_pred_classes[50]"
   ]
  },
  {
   "cell_type": "code",
   "execution_count": 50,
   "id": "220e8dc8-bd2c-479b-8734-803affc46e1a",
   "metadata": {},
   "outputs": [
    {
     "data": {
      "text/plain": [
       "9"
      ]
     },
     "execution_count": 50,
     "metadata": {},
     "output_type": "execute_result"
    }
   ],
   "source": [
    "y_test[50][0]"
   ]
  },
  {
   "cell_type": "code",
   "execution_count": 46,
   "id": "0aab3e0f-ebc5-406a-8e40-34cb055a913d",
   "metadata": {},
   "outputs": [
    {
     "name": "stdout",
     "output_type": "stream",
     "text": [
      "              precision    recall  f1-score   support\n",
      "\n",
      "           0       0.55      0.50      0.53      1000\n",
      "           1       0.40      0.82      0.53      1000\n",
      "           2       0.36      0.38      0.37      1000\n",
      "           3       0.34      0.39      0.37      1000\n",
      "           4       0.49      0.28      0.35      1000\n",
      "           5       0.42      0.31      0.36      1000\n",
      "           6       0.49      0.57      0.53      1000\n",
      "           7       0.70      0.42      0.52      1000\n",
      "           8       0.59      0.57      0.58      1000\n",
      "           9       0.55      0.44      0.49      1000\n",
      "\n",
      "    accuracy                           0.47     10000\n",
      "   macro avg       0.49      0.47      0.46     10000\n",
      "weighted avg       0.49      0.47      0.46     10000\n",
      "\n"
     ]
    }
   ],
   "source": [
    "from sklearn.metrics import confusion_matrix,classification_report\n",
    "print(classification_report(y_test,y_pred_classes))"
   ]
  },
  {
   "cell_type": "markdown",
   "id": "d48b68ea-de61-4a39-8446-a917ca7c2e0f",
   "metadata": {},
   "source": [
    "#### Adding CNN layer"
   ]
  },
  {
   "cell_type": "code",
   "execution_count": 51,
   "id": "cffe78eb-4bb4-4aa2-b5f3-2c8115fc758d",
   "metadata": {},
   "outputs": [
    {
     "name": "stdout",
     "output_type": "stream",
     "text": [
      "Epoch 1/5\n",
      "1563/1563 [==============================] - 42s 26ms/step - loss: 1.9885 - accuracy: 0.2782\n",
      "Epoch 2/5\n",
      "1563/1563 [==============================] - 42s 27ms/step - loss: 1.6002 - accuracy: 0.4276\n",
      "Epoch 3/5\n",
      "1563/1563 [==============================] - 35s 23ms/step - loss: 1.4054 - accuracy: 0.4991\n",
      "Epoch 4/5\n",
      "1563/1563 [==============================] - 34s 22ms/step - loss: 1.2953 - accuracy: 0.5425\n",
      "Epoch 5/5\n",
      "1563/1563 [==============================] - 34s 22ms/step - loss: 1.2132 - accuracy: 0.5739\n"
     ]
    },
    {
     "data": {
      "text/plain": [
       "<keras.callbacks.History at 0x18bdd605b50>"
      ]
     },
     "execution_count": 51,
     "metadata": {},
     "output_type": "execute_result"
    }
   ],
   "source": [
    "cnn = models.Sequential([\n",
    "    layers.Conv2D(filters=32,kernel_size=(3,3),activation='relu',input_shape=(32,32,3)),\n",
    "    layers.MaxPooling2D((2,2)),\n",
    "    layers.Conv2D(filters=64,kernel_size=(3,3),activation='relu'),\n",
    "    layers.MaxPooling2D((2,2)),\n",
    "    \n",
    "    layers.Flatten(),\n",
    "    layers.Dense(64,activation='relu'),\n",
    "    layers.Dense(10,activation='softmax'),\n",
    "])\n",
    "\n",
    "cnn.compile(optimizer='SGD', loss='sparse_categorical_crossentropy', metrics= ['accuracy'])\n",
    "cnn.fit(X_train_scaled,y_train,epochs=5)"
   ]
  },
  {
   "cell_type": "code",
   "execution_count": 53,
   "id": "b3a8b86f-8a61-4ee5-a724-dc9d2b82eb25",
   "metadata": {},
   "outputs": [
    {
     "name": "stdout",
     "output_type": "stream",
     "text": [
      "313/313 [==============================] - 2s 6ms/step - loss: 1.3534 - accuracy: 0.5168\n"
     ]
    },
    {
     "data": {
      "text/plain": [
       "[1.3533779382705688, 0.5167999863624573]"
      ]
     },
     "execution_count": 53,
     "metadata": {},
     "output_type": "execute_result"
    }
   ],
   "source": [
    "cnn.evaluate(X_test_scaled,y_test)"
   ]
  },
  {
   "cell_type": "code",
   "execution_count": 55,
   "id": "2a5388de-0ab6-4a84-872e-89364bcaa612",
   "metadata": {},
   "outputs": [
    {
     "data": {
      "image/png": "[encoded data removed]",
      "text/plain": [
       "<Figure size 1500x200 with 1 Axes>"
      ]
     },
     "metadata": {},
     "output_type": "display_data"
    }
   ],
   "source": [
    "y_test=y_test.reshape(-1)\n",
    "plt_sample(X_test,y_test,7)"
   ]
  },
  {
   "cell_type": "code",
   "execution_count": 65,
   "id": "9d2fbcd3-eac5-498a-995b-39057ebfb54d",
   "metadata": {},
   "outputs": [],
   "source": [
    "y_predc = cnn.predict(X_test_scaled)"
   ]
  },
  {
   "cell_type": "code",
   "execution_count": 66,
   "id": "7dd57e84-bf79-4add-a97f-a1bc6733413f",
   "metadata": {},
   "outputs": [],
   "source": [
    "y_predc_classes = [np.argmax(i) for i in y_pred]"
   ]
  },
  {
   "cell_type": "code",
   "execution_count": 67,
   "id": "d2135628-7c29-48a5-95ce-a17fa89566eb",
   "metadata": {},
   "outputs": [
    {
     "data": {
      "text/plain": [
       "'frog'"
      ]
     },
     "execution_count": 67,
     "metadata": {},
     "output_type": "execute_result"
    }
   ],
   "source": [
    "classes[y_predc_classes[7]]"
   ]
  },
  {
   "cell_type": "code",
   "execution_count": 68,
   "id": "72d0978d-6fbd-4ebe-89dd-416e8c839858",
   "metadata": {},
   "outputs": [
    {
     "name": "stdout",
     "output_type": "stream",
     "text": [
      "              precision    recall  f1-score   support\n",
      "\n",
      "           0       0.70      0.55      0.62      1000\n",
      "           1       0.67      0.74      0.70      1000\n",
      "           2       0.47      0.28      0.35      1000\n",
      "           3       0.44      0.14      0.21      1000\n",
      "           4       0.40      0.45      0.42      1000\n",
      "           5       0.62      0.26      0.36      1000\n",
      "           6       0.32      0.94      0.47      1000\n",
      "           7       0.71      0.55      0.62      1000\n",
      "           8       0.67      0.69      0.68      1000\n",
      "           9       0.64      0.58      0.61      1000\n",
      "\n",
      "    accuracy                           0.52     10000\n",
      "   macro avg       0.56      0.52      0.50     10000\n",
      "weighted avg       0.56      0.52      0.50     10000\n",
      "\n"
     ]
    }
   ],
   "source": [
    "print(classification_report(y_test,y_predc_classes))"
   ]
  },
  {
   "cell_type": "code",
   "execution_count": null,
   "id": "40878bf2-ef47-4961-9f4d-307b3fae4c4d",
   "metadata": {},
   "outputs": [],
   "source": []
  }
 ],
 "metadata": {
  "kernelspec": {
   "display_name": "Python 3 (ipykernel)",
   "language": "python",
   "name": "python3"
  },
  "language_info": {
   "codemirror_mode": {
    "name": "ipython",
    "version": 3
   },
   "file_extension": ".py",
   "mimetype": "text/x-python",
   "name": "python",
   "nbconvert_exporter": "python",
   "pygments_lexer": "ipython3",
   "version": "3.8.18"
  }
 },
 "nbformat": 4,
 "nbformat_minor": 5
}
